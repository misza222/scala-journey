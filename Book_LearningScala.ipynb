{
 "cells": [
  {
   "cell_type": "code",
   "execution_count": 1,
   "metadata": {},
   "outputs": [
    {
     "name": "stdout",
     "output_type": "stream",
     "text": [
      "Ala am kota\n"
     ]
    }
   ],
   "source": [
    "println(\"Ala am kota\")"
   ]
  },
  {
   "cell_type": "code",
   "execution_count": 10,
   "metadata": {},
   "outputs": [
    {
     "data": {
      "text/plain": [
       "defined \u001b[32mfunction\u001b[39m \u001b[36mupper\u001b[39m\n",
       "\u001b[36mres9_1\u001b[39m: \u001b[32mString\u001b[39m = \u001b[32m\"ALA MA KOTA\"\u001b[39m"
      ]
     },
     "execution_count": 10,
     "metadata": {},
     "output_type": "execute_result"
    }
   ],
   "source": [
    "def upper = (s:String) => s.toUpperCase()\n",
    "upper(\"Ala ma kota\")"
   ]
  },
  {
   "cell_type": "code",
   "execution_count": 4,
   "metadata": {},
   "outputs": [
    {
     "name": "stdout",
     "output_type": "stream",
     "text": [
      "ALA\n",
      "MA\n"
     ]
    },
    {
     "data": {
      "text/plain": [
       "defined \u001b[32mobject\u001b[39m \u001b[36mUpper\u001b[39m\n",
       "\u001b[36mres3_1\u001b[39m: \u001b[32mSeq\u001b[39m[\u001b[32mUnit\u001b[39m] = \u001b[33mArrayBuffer\u001b[39m(\u001b[32m()\u001b[39m, \u001b[32m()\u001b[39m)\n",
       "\u001b[36mres11111\u001b[39m: \u001b[32mList\u001b[39m[\u001b[32mString\u001b[39m] = \u001b[33mList\u001b[39m(\u001b[32m\"Ala\"\u001b[39m, \u001b[32m\"Ela\"\u001b[39m)"
      ]
     },
     "execution_count": 4,
     "metadata": {},
     "output_type": "execute_result"
    }
   ],
   "source": [
    "object Upper {\n",
    "    def upper(strings: String*) = strings.map(_.toUpperCase())\n",
    "}\n",
    "Upper.upper(\"Ala\", \"Ma\").map(println(_))\n",
    "\n",
    "val res11111= List(\"Ala\", \"Ela\")"
   ]
  },
  {
   "cell_type": "code",
   "execution_count": 6,
   "metadata": {},
   "outputs": [
    {
     "name": "stdout",
     "output_type": "stream",
     "text": [
      "ArrayBuffer(ALA, ELA)\n",
      "List(Ala, Ela)\n"
     ]
    }
   ],
   "source": [
    "println(Upper.upper(\"Ala\", \"Ela\"))\n",
    "println(res11111)"
   ]
  },
  {
   "cell_type": "code",
   "execution_count": 32,
   "metadata": {},
   "outputs": [
    {
     "name": "stdout",
     "output_type": "stream",
     "text": [
      "Map(a -> 1, b -> 2)\n",
      "Map(a -> 1, b -> 2, c -> 4)\n",
      "Map(a -> 1, b -> 2, c -> 3)\n",
      "\n",
      "map(c) =  + 3\n",
      "\n",
      "map(d) = 0\n",
      "\n",
      "keys :Set(a, b, c)\n",
      "\n",
      "values :MapLike(1, 2, 3)\n"
     ]
    },
    {
     "data": {
      "text/plain": [
       "\u001b[36mmap\u001b[39m: \u001b[32mMap\u001b[39m[\u001b[32mString\u001b[39m, \u001b[32mInt\u001b[39m] = \u001b[33mMap\u001b[39m(\u001b[32m\"a\"\u001b[39m -> \u001b[32m1\u001b[39m, \u001b[32m\"b\"\u001b[39m -> \u001b[32m2\u001b[39m, \u001b[32m\"c\"\u001b[39m -> \u001b[32m3\u001b[39m)"
      ]
     },
     "execution_count": 32,
     "metadata": {},
     "output_type": "execute_result"
    }
   ],
   "source": [
    "var map = Map[String,Int]( \"a\" -> 1, \"b\" -> 2)\n",
    "println(map)\n",
    "\n",
    "map += (\"c\" -> 4)\n",
    "println(map)\n",
    "\n",
    "map += (\"c\" -> 3)\n",
    "println(map)\n",
    "\n",
    "println(s\"\\nmap(c) =  + ${map.getOrElse(\"c\",0)}\")\n",
    "\n",
    "println(\"\\nmap(d) = \" + map.getOrElse(\"d\",0))\n",
    "\n",
    "\n",
    "println(\"\\nkeys :\" + map.keys)\n",
    "\n",
    "println(\"\\nvalues :\" + map.values)"
   ]
  },
  {
   "cell_type": "code",
   "execution_count": 34,
   "metadata": {},
   "outputs": [
    {
     "data": {
      "text/plain": [
       "\u001b[36mlist1\u001b[39m: \u001b[32mList\u001b[39m[\u001b[32mInt\u001b[39m] = \u001b[33mList\u001b[39m(\u001b[32m1\u001b[39m, \u001b[32m2\u001b[39m, \u001b[32m3\u001b[39m, \u001b[32m4\u001b[39m, \u001b[32m5\u001b[39m)\n",
       "\u001b[36mlist2\u001b[39m: \u001b[32mList\u001b[39m[\u001b[32mInt\u001b[39m] = \u001b[33mList\u001b[39m(\u001b[32m6\u001b[39m, \u001b[32m7\u001b[39m, \u001b[32m8\u001b[39m, \u001b[32m9\u001b[39m, \u001b[32m10\u001b[39m)"
      ]
     },
     "execution_count": 34,
     "metadata": {},
     "output_type": "execute_result"
    }
   ],
   "source": [
    "    val list1 = List(1,2,3,4,5)\n",
    "    val list2 = List(6,7,8,9,10)\n"
   ]
  },
  {
   "cell_type": "code",
   "execution_count": 36,
   "metadata": {},
   "outputs": [
    {
     "name": "stdout",
     "output_type": "stream",
     "text": [
      "\n",
      "list1(2) = 3\n",
      "\n",
      "list2(3) = 9\n",
      "\n",
      "\n",
      "\n",
      "list1 + 6 = List(1, 2, 3, 4, 5, 6)\n",
      "\n",
      "list1 + list2 = List(1, 2, 3, 4, 5, 6, 7, 8, 9, 10)\n",
      "\n",
      "list2 + list1 = List(6, 7, 8, 9, 10, 1, 2, 3, 4, 5)\n",
      "\n",
      "\n",
      "\n",
      "list1 filter x!=3 = List(1, 2, 4, 5)\n",
      "\n",
      "list1 filter x <3 = List(1, 2)\n",
      "\n",
      "list2 filterNot x>7 = List(6, 7)\n",
      "\n",
      "\n",
      "\n",
      "Square of list1 : List(1, 4, 9, 16, 25)\n",
      "\n",
      "Cube of list2 : List(216.0, 343.0, 512.0, 729.0, 1000.0)\n",
      "\n",
      "\n",
      "\n",
      "Sort list2 + list1 : List(1, 2, 3, 4, 5, 6, 7, 8, 9, 10)\n",
      "\n",
      "Sort list2 + list1 : List(1, 2, 3, 4, 5, 6, 7, 8, 9, 10)\n",
      "\n",
      "list_of_list : List(List(1, 2, 3), List(4, 5), List(6), List(7, 8, 9, 10))\n",
      "\n",
      "Flat list_of_list : List(1, 2, 3, 4, 5, 6, 7, 8, 9, 10)\n",
      "\n",
      "Sort list_of_tuple by word then number: List((depinfo,1), (depinfo,2), (poipoi,3), (poipoi,5), (poipoi,7), (vaxou,1), (vaxou,4))\n",
      "\n",
      "Sort list_of_tuple by number(asc) then word: List((depinfo,1), (vaxou,1), (depinfo,2), (poipoi,3), (vaxou,4), (poipoi,5), (poipoi,7))\n",
      "\n",
      "Sort list_of_tuple by number(desc) then word: List((poipoi,7), (poipoi,5), (vaxou,4), (poipoi,3), (depinfo,2), (depinfo,1), (vaxou,1))\n"
     ]
    },
    {
     "data": {
      "text/plain": [
       "\u001b[36mlist_of_list\u001b[39m: \u001b[32mList\u001b[39m[\u001b[32mList\u001b[39m[\u001b[32mInt\u001b[39m]] = \u001b[33mList\u001b[39m(\u001b[33mList\u001b[39m(\u001b[32m1\u001b[39m, \u001b[32m2\u001b[39m, \u001b[32m3\u001b[39m), \u001b[33mList\u001b[39m(\u001b[32m4\u001b[39m, \u001b[32m5\u001b[39m), \u001b[33mList\u001b[39m(\u001b[32m6\u001b[39m), \u001b[33mList\u001b[39m(\u001b[32m7\u001b[39m, \u001b[32m8\u001b[39m, \u001b[32m9\u001b[39m, \u001b[32m10\u001b[39m))\n",
       "\u001b[36mlist_of_tuple\u001b[39m: \u001b[32mList\u001b[39m[(\u001b[32mString\u001b[39m, \u001b[32mInt\u001b[39m)] = \u001b[33mList\u001b[39m(\n",
       "  (\u001b[32m\"poipoi\"\u001b[39m, \u001b[32m5\u001b[39m),\n",
       "  (\u001b[32m\"poipoi\"\u001b[39m, \u001b[32m7\u001b[39m),\n",
       "  (\u001b[32m\"poipoi\"\u001b[39m, \u001b[32m3\u001b[39m),\n",
       "  (\u001b[32m\"vaxou\"\u001b[39m, \u001b[32m1\u001b[39m),\n",
       "  (\u001b[32m\"depinfo\"\u001b[39m, \u001b[32m1\u001b[39m),\n",
       "  (\u001b[32m\"depinfo\"\u001b[39m, \u001b[32m2\u001b[39m),\n",
       "  (\u001b[32m\"vaxou\"\u001b[39m, \u001b[32m4\u001b[39m)\n",
       ")\n",
       "\u001b[36ma\u001b[39m: \u001b[32mString\u001b[39m = \u001b[32m\"apple\"\u001b[39m\n",
       "\u001b[36mres35_20\u001b[39m: \u001b[32mString\u001b[39m = \u001b[32m\"bbbappleccc\"\u001b[39m\n",
       "\u001b[36mres35_21\u001b[39m: \u001b[32mString\u001b[39m = \u001b[32m\"bbb10ccc\"\u001b[39m"
      ]
     },
     "execution_count": 36,
     "metadata": {},
     "output_type": "execute_result"
    }
   ],
   "source": [
    "    println(s\"\\nlist1(2) = ${list1(2)}\")\n",
    "\n",
    "    println(s\"\\nlist2(3) = ${list2(3)}\")\n",
    "\n",
    "    println(s\"\\n\\n\\nlist1 + 6 = ${list1 :+ 6}\")\n",
    "\n",
    "    println(s\"\\nlist1 + list2 = ${list1++list2}\")\n",
    "\n",
    "    println(s\"\\nlist2 + list1 = ${list2++list1}\")\n",
    "\n",
    "    println(s\"\\n\\n\\nlist1 filter x!=3 = ${list1.filter(el => el!=3)}\")\n",
    "\n",
    "    println(s\"\\nlist1 filter x <3 = ${list1.filter(_<3)}\")\n",
    "\n",
    "    println(s\"\\nlist2 filterNot x>7 = ${list2.filterNot{el => el>7} }\")\n",
    "\n",
    "    println(s\"\\n\\n\\nSquare of list1 : ${list1.map{el => s\"${el*el}\" }}\")\n",
    "\n",
    "    println(s\"\\nCube of list2 : ${list2.map(Math.pow(_,3))}\")\n",
    "\n",
    "    println(s\"\\n\\n\\nSort list2 + list1 : ${(list2++list1).sortBy(el => el)}\")\n",
    "\n",
    "    println(s\"\\nSort list2 + list1 : ${(list2++list1).sorted}\")\n",
    "\n",
    "\n",
    "    val list_of_list = List(\n",
    "      List(1,2,3),\n",
    "      List(4,5),\n",
    "      List(6),\n",
    "      List(7,8,9,10)\n",
    "    )\n",
    "\n",
    "    println(s\"\\nlist_of_list : ${list_of_list}\")\n",
    "    println(s\"\\nFlat list_of_list : ${list_of_list.flatten}\")\n",
    "\n",
    "\n",
    "    val list_of_tuple = List(\n",
    "      (\"poipoi\", 5),\n",
    "      (\"poipoi\", 7),\n",
    "      (\"poipoi\", 3),\n",
    "      (\"vaxou\", 1),\n",
    "      (\"depinfo\", 1),\n",
    "      (\"depinfo\", 2),\n",
    "      (\"vaxou\", 4)\n",
    "    )\n",
    "\n",
    "    println(s\"\\nSort list_of_tuple by word then number: ${list_of_tuple.sortBy{case(word,int) => (word, int)} }\")\n",
    "\n",
    "    println(s\"\\nSort list_of_tuple by number(asc) then word: ${list_of_tuple.sortBy(tuple => ( tuple._2, tuple._1))}\")\n",
    "\n",
    "    println(s\"\\nSort list_of_tuple by number(desc) then word: ${list_of_tuple.sortBy(el => ( -el._2, el._1))}\")\n",
    "\n",
    "    var a = \"apple\"\n",
    "    \"bbb\" + a + \"ccc\"\n",
    "    s\"bbb${(a+a).size}ccc\""
   ]
  },
  {
   "cell_type": "code",
   "execution_count": 37,
   "metadata": {},
   "outputs": [
    {
     "data": {
      "text/plain": [
       "defined \u001b[32mclass\u001b[39m \u001b[36mCoffeeMachine\u001b[39m"
      ]
     },
     "execution_count": 37,
     "metadata": {},
     "output_type": "execute_result"
    }
   ],
   "source": [
    "case class CoffeeMachine(var name : String, var coffee_type: String, val coffee_price : Int = 1) {\n",
    "\n",
    "  private val money : Float= 0.0f\n",
    "\n",
    "  def printPrice() = {\n",
    "    println(this.coffee_price)\n",
    "    money\n",
    "  }\n",
    "}"
   ]
  },
  {
   "cell_type": "code",
   "execution_count": 53,
   "metadata": {},
   "outputs": [
    {
     "data": {
      "text/plain": [
       "\u001b[36mc1\u001b[39m: \u001b[32mCoffeeMachine\u001b[39m = \u001b[33mCoffeeMachine\u001b[39m(\u001b[32m\"Some name\"\u001b[39m, \u001b[32m\"type\"\u001b[39m, \u001b[32m1\u001b[39m)\n",
       "\u001b[36mc2\u001b[39m: \u001b[32mCoffeeMachine\u001b[39m = \u001b[33mCoffeeMachine\u001b[39m(\u001b[32m\"Some name\"\u001b[39m, \u001b[32m\"type\"\u001b[39m, \u001b[32m2\u001b[39m)"
      ]
     },
     "execution_count": 53,
     "metadata": {},
     "output_type": "execute_result"
    }
   ],
   "source": [
    "var c1 = new CoffeeMachine(\"Some name\", \"type\", 1)\n",
    "val c2 = new CoffeeMachine(\"Some name\", \"type\", 2)"
   ]
  },
  {
   "cell_type": "code",
   "execution_count": 54,
   "metadata": {},
   "outputs": [
    {
     "data": {
      "text/plain": [
       "\u001b[36mres53\u001b[39m: \u001b[32mCoffeeMachine\u001b[39m = \u001b[33mCoffeeMachine\u001b[39m(\u001b[32m\"Some name\"\u001b[39m, \u001b[32m\"type\"\u001b[39m, \u001b[32m1\u001b[39m)"
      ]
     },
     "execution_count": 54,
     "metadata": {},
     "output_type": "execute_result"
    }
   ],
   "source": [
    "c1"
   ]
  },
  {
   "cell_type": "code",
   "execution_count": 55,
   "metadata": {},
   "outputs": [
    {
     "data": {
      "text/plain": [
       "\u001b[36mres54\u001b[39m: \u001b[32mCoffeeMachine\u001b[39m = \u001b[33mCoffeeMachine\u001b[39m(\u001b[32m\"Some name\"\u001b[39m, \u001b[32m\"type\"\u001b[39m, \u001b[32m2\u001b[39m)"
      ]
     },
     "execution_count": 55,
     "metadata": {},
     "output_type": "execute_result"
    }
   ],
   "source": [
    "c2"
   ]
  },
  {
   "cell_type": "code",
   "execution_count": 59,
   "metadata": {},
   "outputs": [
    {
     "name": "stdout",
     "output_type": "stream",
     "text": [
      "2\n",
      "0.0\n"
     ]
    }
   ],
   "source": [
    "println(c2.printPrice)"
   ]
  },
  {
   "cell_type": "code",
   "execution_count": 70,
   "metadata": {},
   "outputs": [
    {
     "name": "stdout",
     "output_type": "stream",
     "text": [
      "ALA \n",
      "ELA \n"
     ]
    },
    {
     "data": {
      "text/plain": [
       "defined \u001b[32mclass\u001b[39m \u001b[36mSomething\u001b[39m"
      ]
     },
     "execution_count": 70,
     "metadata": {},
     "output_type": "execute_result"
    }
   ],
   "source": [
    "class Something() {\n",
    "    def pprint(args: List[String]) = {\n",
    "        args.map(elem => elem.toUpperCase()).foreach(elem => {printf(\"%s \", elem); println()})\n",
    "    }\n",
    "}\n",
    "\n",
    "var pp = (new Something).pprint(List(\"Ala\", \"Ela\"))"
   ]
  },
  {
   "cell_type": "code",
   "execution_count": 69,
   "metadata": {},
   "outputs": [
    {
     "data": {
      "text/plain": [
       "\u001b[36mres68\u001b[39m: \u001b[32mString\u001b[39m = \u001b[32m\"Ala, Ela\"\u001b[39m"
      ]
     },
     "execution_count": 69,
     "metadata": {},
     "output_type": "execute_result"
    }
   ],
   "source": [
    "List(\"Ala\", \"Ela\").mkString(\", \")"
   ]
  },
  {
   "cell_type": "code",
   "execution_count": 100,
   "metadata": {},
   "outputs": [
    {
     "name": "stdout",
     "output_type": "stream",
     "text": [
      "Point(x : 1.0, y : 2.0)\n",
      "Drawing Rectangle(start : Point(x : 1.0, y : 2.0), end : Point(x : 3.0, y : 4.0))\n"
     ]
    },
    {
     "data": {
      "text/plain": [
       "defined \u001b[32mclass\u001b[39m \u001b[36mPoint\u001b[39m\n",
       "defined \u001b[32mclass\u001b[39m \u001b[36mShape\u001b[39m\n",
       "defined \u001b[32mclass\u001b[39m \u001b[36mRectangle\u001b[39m"
      ]
     },
     "execution_count": 100,
     "metadata": {},
     "output_type": "execute_result"
    }
   ],
   "source": [
    "class Point(val x : Double, val y : Double) {\n",
    "    override def toString = s\"Point(x : ${x}, y : ${y})\"\n",
    "}\n",
    "\n",
    "abstract class Shape() {\n",
    "    def draw() : Unit\n",
    "}\n",
    "\n",
    "class Rectangle (val start: Point, val end: Point) extends Shape {\n",
    "    override def draw() {\n",
    "        println(s\"Drawing Rectangle(start : ${start}, end : ${end})\")\n",
    "    }\n",
    "}\n",
    "\n",
    "println(new Point(1,2))\n",
    "new Rectangle(new Point(1,2), new Point(3,4)).draw"
   ]
  },
  {
   "cell_type": "code",
   "execution_count": 100,
   "metadata": {
    "collapsed": true
   },
   "outputs": [],
   "source": [
    "// As actor is moved to Akka, how do I add Akka to the notebook"
   ]
  },
  {
   "cell_type": "markdown",
   "metadata": {},
   "source": [
    "## Chapter 2"
   ]
  },
  {
   "cell_type": "code",
   "execution_count": 101,
   "metadata": {},
   "outputs": [
    {
     "name": "stdout",
     "output_type": "stream",
     "text": [
      "Ala\n",
      "Ela\n"
     ]
    }
   ],
   "source": [
    "println(\"Ala\"); println(\"Ela\")"
   ]
  },
  {
   "cell_type": "code",
   "execution_count": 102,
   "metadata": {},
   "outputs": [
    {
     "name": "stdout",
     "output_type": "stream",
     "text": [
      "Ala\n"
     ]
    },
    {
     "data": {
      "text/plain": [
       "\u001b[36mReallyLongAndAssignementBelow\u001b[39m: \u001b[32mString\u001b[39m = \u001b[32m\"Alinka\"\u001b[39m"
      ]
     },
     "execution_count": 102,
     "metadata": {},
     "output_type": "execute_result"
    }
   ],
   "source": [
    "println(\n",
    "\n",
    "    \n",
    "    \"Ala\"\n",
    "    \n",
    "\n",
    "\n",
    ")\n",
    "\n",
    "val ReallyLongAndAssignementBelow\n",
    "=\n",
    "\"Alinka\"\n",
    "\n"
   ]
  },
  {
   "cell_type": "code",
   "execution_count": 103,
   "metadata": {},
   "outputs": [
    {
     "name": "stderr",
     "output_type": "stream",
     "text": [
      "cmd103.sc:2: reassignment to val\n",
      "val res103_1 = array = new Array(2)\n",
      "                     ^"
     ]
    },
    {
     "ename": "",
     "evalue": "",
     "output_type": "error",
     "traceback": [
      "Compilation Failed"
     ]
    }
   ],
   "source": [
    "val array: Array[String] = new Array(5)\n",
    "array = new Array(2)"
   ]
  },
  {
   "cell_type": "code",
   "execution_count": 111,
   "metadata": {},
   "outputs": [
    {
     "data": {
      "text/plain": [
       "defined \u001b[32mfunction\u001b[39m \u001b[36mfactorial\u001b[39m\n",
       "\u001b[36mres110_1\u001b[39m: \u001b[32mInt\u001b[39m = \u001b[32m6\u001b[39m"
      ]
     },
     "execution_count": 111,
     "metadata": {},
     "output_type": "execute_result"
    }
   ],
   "source": [
    "def factorial(i: Int): Int = {\n",
    "    def fact(i: Int, accumulator: Int): Int = {\n",
    "        if (i <= 1)\n",
    "            accumulator\n",
    "        else\n",
    "            fact(i - 1, accumulator * i)\n",
    "    }\n",
    "    \n",
    "    fact(i, 1)\n",
    "}\n",
    "\n",
    "factorial(3)"
   ]
  },
  {
   "cell_type": "code",
   "execution_count": 118,
   "metadata": {},
   "outputs": [
    {
     "name": "stdout",
     "output_type": "stream",
     "text": [
      "10\n",
      "9\n",
      "8\n",
      "7\n",
      "6\n",
      "5\n",
      "4\n",
      "3\n",
      "2\n",
      "1\n"
     ]
    },
    {
     "data": {
      "text/plain": [
       "defined \u001b[32mfunction\u001b[39m \u001b[36mcount\u001b[39m"
      ]
     },
     "execution_count": 118,
     "metadata": {},
     "output_type": "execute_result"
    }
   ],
   "source": [
    "def count(i: Int): Unit= {\n",
    "    if (i > 0) {\n",
    "        println(i)\n",
    "        count(i - 1)\n",
    "    }\n",
    "}\n",
    "count(10)"
   ]
  },
  {
   "cell_type": "code",
   "execution_count": 180,
   "metadata": {},
   "outputs": [
    {
     "data": {
      "text/plain": [
       "defined \u001b[32mfunction\u001b[39m \u001b[36mmakeList\u001b[39m\n",
       "\u001b[36mml\u001b[39m: \u001b[32mList\u001b[39m[\u001b[32mString\u001b[39m] = \u001b[33mList\u001b[39m(\u001b[32m\"Ala ma kota\"\u001b[39m, \u001b[32m\"A kot ma ale\"\u001b[39m)\n",
       "\u001b[36mres179_2\u001b[39m: \u001b[32mList\u001b[39m[\u001b[32mString\u001b[39m] = \u001b[33mList\u001b[39m(\u001b[32m\"Ala ma kota\"\u001b[39m, \u001b[32m\"A kot ma ale\"\u001b[39m)"
      ]
     },
     "execution_count": 180,
     "metadata": {},
     "output_type": "execute_result"
    }
   ],
   "source": [
    "def makeList(strings: String*) = {\n",
    "    if(strings.length == 0)\n",
    "        List()\n",
    "    else\n",
    "        strings.toList\n",
    "}\n",
    "var ml = makeList(\"Ala ma kota\", \"A kot ma ale\")\n",
    "\n",
    "ml"
   ]
  },
  {
   "cell_type": "code",
   "execution_count": 180,
   "metadata": {},
   "outputs": [
    {
     "name": "stderr",
     "output_type": "stream",
     "text": [
      "cmd180.sc:1: not found: value classpath\n",
      "val res180 = classpath.add(\"com.typesafe.akka\" %% \"akka-actor\" % \"2.5.4\")\n",
      "             ^"
     ]
    },
    {
     "ename": "",
     "evalue": "",
     "output_type": "error",
     "traceback": [
      "Compilation Failed"
     ]
    }
   ],
   "source": [
    "classpath.add(\"com.typesafe.akka\" %% \"akka-actor\" % \"2.5.4\")"
   ]
  }
 ],
 "metadata": {
  "kernelspec": {
   "display_name": "Scala",
   "language": "scala",
   "name": "scala"
  },
  "language_info": {
   "codemirror_mode": "text/x-scala",
   "file_extension": ".scala",
   "mimetype": "text/x-scala",
   "name": "scala211",
   "nbconvert_exporter": "script",
   "pygments_lexer": "scala",
   "version": "2.11.11"
  }
 },
 "nbformat": 4,
 "nbformat_minor": 2
}
