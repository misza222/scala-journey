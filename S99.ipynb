{
 "cells": [
  {
   "cell_type": "markdown",
   "metadata": {},
   "source": [
    "# Problems from http://aperiodic.net/phil/scala/s-99/"
   ]
  },
  {
   "cell_type": "markdown",
   "metadata": {},
   "source": [
    "## Helper methods"
   ]
  },
  {
   "cell_type": "code",
   "execution_count": 89,
   "metadata": {},
   "outputs": [
    {
     "name": "stdout",
     "output_type": "stream",
     "text": [
      ".E"
     ]
    },
    {
     "data": {
      "text/plain": [
       "defined \u001b[32mfunction\u001b[39m \u001b[36massert\u001b[39m\n",
       "defined \u001b[32mfunction\u001b[39m \u001b[36massertThrows\u001b[39m"
      ]
     },
     "execution_count": 89,
     "metadata": {},
     "output_type": "execute_result"
    }
   ],
   "source": [
    "def assert(b: Boolean): Unit = {\n",
    "    if(b)\n",
    "        print(\".\")\n",
    "    else\n",
    "        print(\"E\")\n",
    "}\n",
    "\n",
    "def assertThrows(function: (Any) => Any, params: Any = Nil): Unit = {\n",
    "    try {\n",
    "        function(params)\n",
    "        print(\"E\")\n",
    "    } catch {\n",
    "        case _ => print(\".\")\n",
    "    }\n",
    "}\n",
    "// def assertThrows(function: (List[Int]) => Any, params: List[Int] = Nil): Unit = {\n",
    "//     try {\n",
    "//         function(params)\n",
    "//         print(\"E\")\n",
    "//     } catch {\n",
    "//         case _ => print(\".\")\n",
    "//     }\n",
    "// }\n",
    "\n",
    "assertThrows((Unit) => throw new NoSuchElementException) // pass\n",
    "assertThrows((Unit) => 1) // shouldn't pass"
   ]
  },
  {
   "cell_type": "markdown",
   "metadata": {},
   "source": [
    "### P01 (*) Find the last element of a list.\n",
    "```\n",
    "Example:\n",
    "scala> last(List(1, 1, 2, 3, 5, 8))\n",
    "res0: Int = 8\n",
    "```"
   ]
  },
  {
   "cell_type": "code",
   "execution_count": 5,
   "metadata": {},
   "outputs": [
    {
     "data": {
      "text/plain": [
       "defined \u001b[32mfunction\u001b[39m \u001b[36mlast\u001b[39m\n",
       "defined \u001b[32mfunction\u001b[39m \u001b[36mlastR\u001b[39m\n",
       "defined \u001b[32mfunction\u001b[39m \u001b[36mlastRwithMatchers\u001b[39m"
      ]
     },
     "execution_count": 5,
     "metadata": {},
     "output_type": "execute_result"
    }
   ],
   "source": [
    "def last[T](list: List[T]): T = list.last\n",
    "\n",
    "def lastR[T](list: List[T]): T = {\n",
    "    if(list.length == 0)\n",
    "        throw new NoSuchElementException\n",
    "    if(list.length == 1)\n",
    "        list(0)\n",
    "    else\n",
    "        lastR(list.drop(1))\n",
    "}\n",
    "\n",
    "def lastRwithMatchers[T](list: List[T]): T = {\n",
    "    list match {\n",
    "        case h :: Nil => h\n",
    "        case h :: tail => lastRwithMatchers(tail)\n",
    "        case _ => throw new NoSuchElementException\n",
    "    }\n",
    "}"
   ]
  },
  {
   "cell_type": "code",
   "execution_count": 6,
   "metadata": {},
   "outputs": [
    {
     "name": "stdout",
     "output_type": "stream",
     "text": [
      "..."
     ]
    }
   ],
   "source": [
    "assert(lastR(List(1,2,3)) == 3)\n",
    "assert(last(List(1,2,3)) == 3)\n",
    "assert(lastRwithMatchers(List(1,2,3)) == 3)\n",
    "// assertThrows(lastR, List())"
   ]
  },
  {
   "cell_type": "markdown",
   "metadata": {},
   "source": [
    "### P02 (*) Find the last but one element of a list.\n",
    "```\n",
    "Example:\n",
    "scala> penultimate(List(1, 1, 2, 3, 5, 8))\n",
    "res0: Int = 5\n",
    "```"
   ]
  },
  {
   "cell_type": "code",
   "execution_count": 7,
   "metadata": {},
   "outputs": [
    {
     "data": {
      "text/plain": [
       "defined \u001b[32mfunction\u001b[39m \u001b[36mlbo\u001b[39m"
      ]
     },
     "execution_count": 7,
     "metadata": {},
     "output_type": "execute_result"
    }
   ],
   "source": [
    "def lbo[Type](list: List[Type]): Type = list match {\n",
    "    case a :: b :: Nil => a\n",
    "    case a :: b :: tail => lbo(b :: tail)\n",
    "    case _ => throw new NoSuchElementException\n",
    "}"
   ]
  },
  {
   "cell_type": "code",
   "execution_count": 8,
   "metadata": {},
   "outputs": [
    {
     "name": "stdout",
     "output_type": "stream",
     "text": [
      ".\n",
      "And this should throw an exception:\n"
     ]
    },
    {
     "ename": "",
     "evalue": "",
     "output_type": "error",
     "traceback": [
      "\u001b[31mjava.util.NoSuchElementException\u001b[39m",
      "  $sess.cmd6Wrapper$Helper.lbo(\u001b[32mcmd6.sc\u001b[39m:\u001b[32m4\u001b[39m)",
      "  $sess.cmd7Wrapper$Helper.<init>(\u001b[32mcmd7.sc\u001b[39m:\u001b[32m3\u001b[39m)",
      "  $sess.cmd7Wrapper.<init>(\u001b[32mcmd7.sc\u001b[39m:\u001b[32m143\u001b[39m)",
      "  $sess.cmd7$.<init>(\u001b[32mcmd7.sc\u001b[39m:\u001b[32m90\u001b[39m)",
      "  $sess.cmd7$.<clinit>(\u001b[32mcmd7.sc\u001b[39m:\u001b[32m-1\u001b[39m)"
     ]
    }
   ],
   "source": [
    "assert(lbo(List(1,2,3,4,5)) == 4)\n",
    "println(s\"\\nAnd this should throw an exception:\")\n",
    "lbo(List())"
   ]
  },
  {
   "cell_type": "markdown",
   "metadata": {},
   "source": [
    "##### Generic last N-th element from the list"
   ]
  },
  {
   "cell_type": "code",
   "execution_count": 11,
   "metadata": {},
   "outputs": [
    {
     "name": "stdout",
     "output_type": "stream",
     "text": [
      "..."
     ]
    },
    {
     "ename": "",
     "evalue": "",
     "output_type": "error",
     "traceback": [
      "\u001b[31mjava.lang.IndexOutOfBoundsException\u001b[39m",
      "  $sess.cmd10Wrapper$Helper.lastNth(\u001b[32mcmd10.sc\u001b[39m:\u001b[32m3\u001b[39m)",
      "  $sess.cmd10Wrapper$Helper.<init>(\u001b[32mcmd10.sc\u001b[39m:\u001b[32m17\u001b[39m)",
      "  $sess.cmd10Wrapper.<init>(\u001b[32mcmd10.sc\u001b[39m:\u001b[32m163\u001b[39m)",
      "  $sess.cmd10$.<init>(\u001b[32mcmd10.sc\u001b[39m:\u001b[32m96\u001b[39m)",
      "  $sess.cmd10$.<clinit>(\u001b[32mcmd10.sc\u001b[39m:\u001b[32m-1\u001b[39m)"
     ]
    }
   ],
   "source": [
    "def lastNth[A](n: Int, list: List[A]): A = {\n",
    "    if(n <= 0)\n",
    "        throw new IndexOutOfBoundsException\n",
    "    \n",
    "    if(list.length < n)\n",
    "        throw new NoSuchElementException\n",
    "    \n",
    "    if(list.length == n)\n",
    "        list(0)\n",
    "    else\n",
    "        lastNth(n, list.drop(1))\n",
    "}\n",
    "\n",
    "assert(lastNth(3, List(0,1,2,3)) == 1)\n",
    "assert(lastNth(2, List(0,1,2,3)) == 2)\n",
    "assert(lastNth(1, List(0,1,2,3)) == 3)\n",
    "\n",
    "// assert(lastNth(-1, List(0,1,2,3)) == 3) // throws an exception\n",
    "// assert(lastNth(5, List(0,1,2,3)) == 3) // throws an exception\n",
    "// assert(lastNth(0, List()) == 3) // throws an exception"
   ]
  },
  {
   "cell_type": "markdown",
   "metadata": {},
   "source": [
    "### P03 (*) Find the Kth element of a list.\n",
    "By convention, the first element in the list is element 0.\n",
    "Example:\n",
    "```\n",
    "scala> nth(2, List(1, 1, 2, 3, 5, 8))\n",
    "res0: Int = 2\n",
    "```"
   ]
  },
  {
   "cell_type": "code",
   "execution_count": 19,
   "metadata": {},
   "outputs": [
    {
     "data": {
      "text/plain": [
       "defined \u001b[32mfunction\u001b[39m \u001b[36mk_th_elem\u001b[39m\n",
       "defined \u001b[32mfunction\u001b[39m \u001b[36mk_th_elem_R\u001b[39m"
      ]
     },
     "execution_count": 19,
     "metadata": {},
     "output_type": "execute_result"
    }
   ],
   "source": [
    "def k_th_elem[T](k: Int, list: List[T]): T = {\n",
    "    if(list.length < k)\n",
    "        throw new IndexOutOfBoundsException\n",
    "    else\n",
    "        list(k)\n",
    "}\n",
    "\n",
    "def k_th_elem_R[T](k: Int, list: List[T]): T = (k, list) match {\n",
    "    case (0, h :: list) => h\n",
    "    case (_, h :: list) => k_th_elem_R(k - 1, list)\n",
    "    case (_, Nil) => throw new NoSuchElementException\n",
    "}"
   ]
  },
  {
   "cell_type": "code",
   "execution_count": 22,
   "metadata": {},
   "outputs": [
    {
     "name": "stdout",
     "output_type": "stream",
     "text": [
      "....."
     ]
    }
   ],
   "source": [
    "assert(k_th_elem(3, List(1,2,3,4)) == 4)\n",
    "assert(k_th_elem(0, List(0)) == 0)\n",
    "\n",
    "assert(k_th_elem_R(3, List(1,2,3,4)) == 4)\n",
    "assert(k_th_elem_R(0, List(0)) == 0)\n",
    "assert(k_th_elem_R(4, List(1,2,3,4,5)) == 5)\n",
    "//assertThrows(k_th_elem, List(4, List(1,2,3,4))) // throws exception\n",
    "// k_th_elem(4, List(1,2,3,4))"
   ]
  },
  {
   "cell_type": "markdown",
   "metadata": {},
   "source": [
    "### P04 (*) Find the number of elements of a list.\n",
    "Example:\n",
    "```\n",
    "scala> length(List(1, 1, 2, 3, 5, 8))\n",
    "res0: Int = 6\n",
    "```"
   ]
  },
  {
   "cell_type": "code",
   "execution_count": 59,
   "metadata": {},
   "outputs": [
    {
     "data": {
      "text/plain": [
       "defined \u001b[32mfunction\u001b[39m \u001b[36mlength\u001b[39m\n",
       "defined \u001b[32mfunction\u001b[39m \u001b[36mlengthR\u001b[39m\n",
       "defined \u001b[32mfunction\u001b[39m \u001b[36mlength_with_fold\u001b[39m"
      ]
     },
     "execution_count": 59,
     "metadata": {},
     "output_type": "execute_result"
    }
   ],
   "source": [
    "def length(list: List[Any]): Int = list.length\n",
    "\n",
    "def lengthR(list: List[Any]): Int = list match {\n",
    "    case Nil => 0\n",
    "    case h :: tail => 1 + lengthR(tail)\n",
    "}\n",
    "\n",
    "def length_with_fold(list: List[Any]): Int = {\n",
    "    list.foldLeft(0) { (total, _) => total + 1 }\n",
    "//     list.fold(\"\"){ (total, word) => total + word } // why it doesn't work here?\n",
    "}"
   ]
  },
  {
   "cell_type": "code",
   "execution_count": 61,
   "metadata": {},
   "outputs": [
    {
     "name": "stdout",
     "output_type": "stream",
     "text": [
      "......"
     ]
    }
   ],
   "source": [
    "assert(length(List(\"Ala\",\"Ma\",\"Kota\", \"A\")) == 4)\n",
    "assert(lengthR(List(\"Ala\",\"Ma\",\"Kota\", \"A\")) == 4)\n",
    "assert(length_with_fold(List(\"Ala\",\"Ma\",\"Kota\", \"A\")) == 4)\n",
    "assert(length(List()) == 0)\n",
    "assert(lengthR(List()) == 0)\n",
    "assert(length_with_fold(List()) == 0)"
   ]
  },
  {
   "cell_type": "markdown",
   "metadata": {},
   "source": [
    "### P05 (*) Reverse a list.\n",
    "Example:\n",
    "```\n",
    "scala> reverse(List(1, 1, 2, 3, 5, 8))\n",
    "res0: List[Int] = List(8, 5, 3, 2, 1, 1)\n",
    "```"
   ]
  },
  {
   "cell_type": "code",
   "execution_count": 80,
   "metadata": {},
   "outputs": [
    {
     "data": {
      "text/plain": [
       "defined \u001b[32mfunction\u001b[39m \u001b[36mrev1\u001b[39m\n",
       "defined \u001b[32mfunction\u001b[39m \u001b[36mrev2\u001b[39m\n",
       "defined \u001b[32mfunction\u001b[39m \u001b[36mrev3\u001b[39m"
      ]
     },
     "execution_count": 80,
     "metadata": {},
     "output_type": "execute_result"
    }
   ],
   "source": [
    "def rev1[T](list: List[T]): List[T] = list.reverse\n",
    "def rev2[T](list: List[T]): List[T] = list match {\n",
    "    case h :: tail => rev2(tail) :+ h\n",
    "    case Nil => Nil\n",
    "}\n",
    "def rev3[T](list: List[T]): List[T] = list.foldLeft(List[T]()) {(newlist, elem) => elem :: newlist} "
   ]
  },
  {
   "cell_type": "code",
   "execution_count": 81,
   "metadata": {},
   "outputs": [
    {
     "name": "stdout",
     "output_type": "stream",
     "text": [
      "........."
     ]
    }
   ],
   "source": [
    "assert(rev1(List(1,2,3)) == List(3,2,1))\n",
    "assert(rev1(Nil) == Nil)\n",
    "assert(rev1(List(\"A\", \"B\", \"C\")) == List(\"C\", \"B\", \"A\"))\n",
    "assert(rev2(List(1,2,3)) == List(3,2,1))\n",
    "assert(rev2(Nil) == Nil)\n",
    "assert(rev2(List(\"A\", \"B\", \"C\")) == List(\"C\", \"B\", \"A\"))\n",
    "assert(rev3(List(1,2,3)) == List(3,2,1))\n",
    "assert(rev3(Nil) == Nil)\n",
    "assert(rev3(List(\"A\", \"B\", \"C\")) == List(\"C\", \"B\", \"A\"))"
   ]
  },
  {
   "cell_type": "markdown",
   "metadata": {},
   "source": [
    "### P06 (*) Find out whether a list is a palindrome.\n",
    "Example:\n",
    "```\n",
    "scala> isPalindrome(List(1, 2, 3, 2, 1))\n",
    "res0: Boolean = true\n",
    "```"
   ]
  },
  {
   "cell_type": "code",
   "execution_count": 82,
   "metadata": {},
   "outputs": [
    {
     "data": {
      "text/plain": [
       "defined \u001b[32mfunction\u001b[39m \u001b[36misPalindrome\u001b[39m"
      ]
     },
     "execution_count": 82,
     "metadata": {},
     "output_type": "execute_result"
    }
   ],
   "source": [
    "def isPalindrome(list: List[Any]): Boolean = {\n",
    "    list == list.reverse\n",
    "}"
   ]
  },
  {
   "cell_type": "code",
   "execution_count": 87,
   "metadata": {},
   "outputs": [
    {
     "name": "stdout",
     "output_type": "stream",
     "text": [
      "...."
     ]
    }
   ],
   "source": [
    "assert(isPalindrome(List(\"A\", \"B\", \"C\")) == false)\n",
    "assert(isPalindrome(List(\"A\", \"B\", \"C\", \"B\", \"A\")))\n",
    "assert(isPalindrome(Nil))\n",
    "assert(isPalindrome(List(1, 2,1, 2)) == false)"
   ]
  },
  {
   "cell_type": "markdown",
   "metadata": {},
   "source": [
    "### P07 (**) Flatten a nested list structure.\n",
    "Example:\n",
    "```\n",
    "scala> flatten(List(List(1, 1), 2, List(3, List(5, 8))))\n",
    "res0: List[Any] = List(1, 1, 2, 3, 5, 8)\n",
    "```"
   ]
  },
  {
   "cell_type": "code",
   "execution_count": 89,
   "metadata": {},
   "outputs": [
    {
     "name": "stderr",
     "output_type": "stream",
     "text": [
      "cmd89.sc:3: type List takes type parameters\n",
      "        case (h1 : List, tail) => flatten(h) :: flatten(tail)\n",
      "                   ^cmd89.sc:3: type mismatch;\n",
      " found   : Any\n",
      " required: List[Any]\n",
      "        case (h1 : List, tail) => flatten(h) :: flatten(tail)\n",
      "                                          ^"
     ]
    },
    {
     "ename": "",
     "evalue": "",
     "output_type": "error",
     "traceback": [
      "Compilation Failed"
     ]
    }
   ],
   "source": [
    "def flatten(list: List[Any]): List[Any] = list match {\n",
    "    case h :: tail => (h, tail) match {\n",
    "        case (h1 : List, tail) => flatten(h) :: flatten(tail)\n",
    "        case (h, tail)  => h :: flatten(tail)\n",
    "    }\n",
    "    case h :: Nil => List(h)\n",
    "}"
   ]
  },
  {
   "cell_type": "markdown",
   "metadata": {},
   "source": [
    "### P08 (**) Eliminate consecutive duplicates of list elements.\n",
    "If a list contains repeated elements they should be replaced with a single copy of the element. The order of the elements should not be changed.\n",
    "Example:\n",
    "```\n",
    "scala> compress(List('a, 'a, 'a, 'a, 'b, 'c, 'c, 'a, 'a, 'd, 'e, 'e, 'e, 'e))\n",
    "res0: List[Symbol] = List('a, 'b, 'c, 'a, 'd, 'e)\n",
    "```"
   ]
  },
  {
   "cell_type": "code",
   "execution_count": 113,
   "metadata": {},
   "outputs": [
    {
     "data": {
      "text/plain": [
       "defined \u001b[32mfunction\u001b[39m \u001b[36mcompress1\u001b[39m"
      ]
     },
     "execution_count": 113,
     "metadata": {},
     "output_type": "execute_result"
    }
   ],
   "source": [
    "def compress1[A](list: List[A]): List[A] = list match {\n",
    "    case Nil => Nil\n",
    "    case h :: tail => h :: compress2(tail.dropWhile(_ == h))\n",
    "}"
   ]
  },
  {
   "cell_type": "code",
   "execution_count": 119,
   "metadata": {},
   "outputs": [
    {
     "name": "stdout",
     "output_type": "stream",
     "text": [
      "..."
     ]
    },
    {
     "data": {
      "text/plain": [
       "\u001b[36ml1\u001b[39m: \u001b[32mList\u001b[39m[\u001b[32mInt\u001b[39m] = \u001b[33mList\u001b[39m(\u001b[32m1\u001b[39m, \u001b[32m2\u001b[39m, \u001b[32m3\u001b[39m, \u001b[32m4\u001b[39m, \u001b[32m5\u001b[39m)\n",
       "\u001b[36ml2\u001b[39m: \u001b[32mList\u001b[39m[\u001b[32mInt\u001b[39m] = \u001b[33mList\u001b[39m(\u001b[32m1\u001b[39m, \u001b[32m2\u001b[39m, \u001b[32m2\u001b[39m, \u001b[32m3\u001b[39m, \u001b[32m1\u001b[39m, \u001b[32m2\u001b[39m, \u001b[32m2\u001b[39m, \u001b[32m5\u001b[39m, \u001b[32m4\u001b[39m)"
      ]
     },
     "execution_count": 119,
     "metadata": {},
     "output_type": "execute_result"
    }
   ],
   "source": [
    "val l1 = List(1,2,3,4,5)\n",
    "val l2 = List(1,2,2,3,1,2,2,5,4)\n",
    "assert(compress1(l1) == l1)\n",
    "assert(compress1(l2) == List(1,2,3,1,2,5,4))\n",
    "assert(compress1(Nil) == Nil)"
   ]
  },
  {
   "cell_type": "markdown",
   "metadata": {},
   "source": [
    "### P09 (**) Pack consecutive duplicates of list elements into sublists.\n",
    "If a list contains repeated elements they should be placed in separate sublists.\n",
    "Example:\n",
    "```\n",
    "scala> pack(List('a, 'a, 'a, 'a, 'b, 'c, 'c, 'a, 'a, 'd, 'e, 'e, 'e, 'e))\n",
    "res0: List[List[Symbol]] = List(List('a, 'a, 'a, 'a), List('b), List('c, 'c), List('a, 'a), List('d), List('e, 'e, 'e, 'e))\n",
    "```"
   ]
  },
  {
   "cell_type": "code",
   "execution_count": 119,
   "metadata": {},
   "outputs": [
    {
     "name": "stderr",
     "output_type": "stream",
     "text": [
      "cmd119.sc:2: class List is abstract; cannot be instantiated\n",
      "    var retVal = new List[List[A]]()\n",
      "                 ^"
     ]
    },
    {
     "ename": "",
     "evalue": "",
     "output_type": "error",
     "traceback": [
      "Compilation Failed"
     ]
    }
   ],
   "source": [
    "def pack[A](list: List[A]): List[List[A]] = {\n",
    "    var retVal = new List[List[A]]()\n",
    "    \n",
    "    retVal\n",
    "}"
   ]
  }
 ],
 "metadata": {
  "kernelspec": {
   "display_name": "Scala",
   "language": "scala",
   "name": "scala"
  },
  "language_info": {
   "codemirror_mode": "text/x-scala",
   "file_extension": ".scala",
   "mimetype": "text/x-scala",
   "name": "scala211",
   "nbconvert_exporter": "script",
   "pygments_lexer": "scala",
   "version": "2.11.11"
  }
 },
 "nbformat": 4,
 "nbformat_minor": 2
}
