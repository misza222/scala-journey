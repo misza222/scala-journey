{
 "cells": [
  {
   "cell_type": "markdown",
   "metadata": {},
   "source": [
    "# Basics\n",
    "\n",
    "Mostly exercises and experiments made during\n",
    "[Martin Odersky's functional programming course on Coursera](https://www.coursera.org/learn/progfun1)"
   ]
  },
  {
   "cell_type": "markdown",
   "metadata": {},
   "source": [
    "## (Tail) recursion"
   ]
  },
  {
   "cell_type": "code",
   "execution_count": 3,
   "metadata": {},
   "outputs": [
    {
     "name": "stdout",
     "output_type": "stream",
     "text": [
      "I is: 3000\n",
      "I is: 3100\n",
      "I is: 3200\n",
      "I is: 3300\n",
      "I is: 3400\n",
      "I is: 3500\n",
      "I is: 3600\n",
      "I is: 3700\n",
      "I is: 3800\n",
      "I is: 3900\n",
      "I is: 4000\n",
      "I is: 4100\n",
      "I is: 4200\n",
      "I is: 4300\n",
      "I is: 4400\n",
      "I is: 4500\n",
      "I is: 4600\n",
      "I is: 4700\n",
      "I is: 4800\n",
      "I is: 4900\n",
      "I is: 5000\n"
     ]
    },
    {
     "data": {
      "text/plain": [
       "\u001b[32mimport \u001b[39m\u001b[36mscala.annotation.tailrec\n",
       "\n",
       "\u001b[39m\n",
       "defined \u001b[32mfunction\u001b[39m \u001b[36mfibonacci_tail_recursive\u001b[39m\n",
       "defined \u001b[32mfunction\u001b[39m \u001b[36mfibonacci_not_tail_recursive\u001b[39m\n",
       "\u001b[36mres2_3\u001b[39m: \u001b[32mBigInt\u001b[39m = 402387260077093773543702433923003985719374864210714632543799910429938512398629020592044208486969404800479988610197196058631666872994808558901323829669944590997424504087073759918823627727188732519779505950995276120874975462497043601418278094646496291056393887437886487337119181045825783647849977012476632889835955735432513185323958463075557409114262417474349347553428646576611667797396668820291207379143853719588249808126867838374559731746136085379534524221586593201928090878297308431392844403281231558611036976801357304216168747609675871348312025478589320767169132448426236131412508780208000261683151027341827977704784635868170164365024153691398281264810213092761244896359928705114964975419909342221566832572080821333186116811553615836546984046708975602900950537616475847728421889679646244945160765353408198901385442487984959953319101723355556602139450399736280750137837615307127761926849034352625200015888535147331611702103968175921510907788019393178114194545\u001b[33m...\u001b[39m\n",
       "\u001b[36mres2_4\u001b[39m: \u001b[32mBigInt\u001b[39m = 402387260077093773543702433923003985719374864210714632543799910429938512398629020592044208486969404800479988610197196058631666872994808558901323829669944590997424504087073759918823627727188732519779505950995276120874975462497043601418278094646496291056393887437886487337119181045825783647849977012476632889835955735432513185323958463075557409114262417474349347553428646576611667797396668820291207379143853719588249808126867838374559731746136085379534524221586593201928090878297308431392844403281231558611036976801357304216168747609675871348312025478589320767169132448426236131412508780208000261683151027341827977704784635868170164365024153691398281264810213092761244896359928705114964975419909342221566832572080821333186116811553615836546984046708975602900950537616475847728421889679646244945160765353408198901385442487984959953319101723355556602139450399736280750137837615307127761926849034352625200015888535147331611702103968175921510907788019393178114194545\u001b[33m...\u001b[39m\n",
       "\u001b[36mres2_5\u001b[39m: \u001b[32mBigInt\u001b[39m = 282422940796034787429342157802453551847749492609122485057891808654297795090106301787255177141383116361071361173736196295147499618312391802272607340909383242200555696886678403803773794449612683801478751119669063860449261445381113700901607668664054071705659522612980419583567789090475415128711408369242515352930962606722710387442460886354543639829317477617755326218511264748558649181803815198771612196815141299023044638240688965083575002296499396423642566352716149352078013312029433930594819960435396942025476101873825217271196652422246297861322189750497401951716531530489874836050566952715480176512162138004109816807973453547851752024621945048345013773263106939093503598859882632105284141400157567860960902916507469661354526253073254753021568307154042497002972104246465771375056165817285155172162886760664481809818584564912091230268276814735122529591235669762238475328261577004694811496484849130195367134000180314340123805113681738352960473617823635909003244429\u001b[33m...\u001b[39m\n",
       "\u001b[36mres2_6\u001b[39m: \u001b[32mAny\u001b[39m = Vector(41493596034378540855568670930866121709511191949318099176894676576975585651235319500860007652178003420075184635383617118495750871114045907794553402161068339611621037904199177522062663390179682805164719697495968842457728766097103003726111095340241127118833157738815328438929737613021106312930374401485378725446079610290429491049793888120762511625132917004641668962117590203575175488980653577868915285093782469994674699190832093511068363824287063522268544339213775150488588104036818809099292912497141900508938994404715351473154531587441509960174267875087460367974117072368747277143988920683691618503608198459718093784453523958505377611086511162363145920886108557450874513945305436213711898150847192094426374203275029996333784944014775671414680824207499914714878359669720638954670589960178569480263388767112871068004950827400717124819476386401369193544354120312786601434792549959143530120653103406625503231020738351502195103148673612338739395096551462159349\u001b[33m...\u001b[39m\n",
       "defined \u001b[32mfunction\u001b[39m \u001b[36msum\u001b[39m\n",
       "defined \u001b[32mfunction\u001b[39m \u001b[36msumtr\u001b[39m\n",
       "\u001b[36mres2_9\u001b[39m: \u001b[32mInt\u001b[39m = \u001b[32m14\u001b[39m\n",
       "\u001b[36mres2_10\u001b[39m: \u001b[32mInt\u001b[39m = \u001b[32m14\u001b[39m\n",
       "\u001b[36mparams\u001b[39m: (\u001b[32mInt\u001b[39m, \u001b[32mInt\u001b[39m, \u001b[32mInt\u001b[39m => \u001b[32mInt\u001b[39m) = (\u001b[32m1\u001b[39m, \u001b[32m5\u001b[39m, <function1>)"
      ]
     },
     "execution_count": 3,
     "metadata": {},
     "output_type": "execute_result"
    }
   ],
   "source": [
    "import scala.annotation.tailrec\n",
    "\n",
    "def fibonacci_tail_recursive(n: Long): BigInt = {\n",
    "// @tailrec enforces method it annotates to be tail recursive\n",
    "@tailrec def fib(n: Long, acc: BigInt): BigInt = n match {\n",
    "  case n if n >= 1 => fib(n - 1, acc * n)\n",
    "  case _ => acc\n",
    "  }\n",
    "\n",
    "  fib(n, 1)\n",
    "}\n",
    "\n",
    "def fibonacci_not_tail_recursive(n: BigInt): BigInt = n match {\n",
    "  case n if n > 1 => n * fibonacci_not_tail_recursive(n - 1)\n",
    "  case _ => 1\n",
    "}\n",
    "\n",
    "fibonacci_tail_recursive(1000)\n",
    "\n",
    "fibonacci_not_tail_recursive(1000)\n",
    "\n",
    "fibonacci_tail_recursive(100000)\n",
    "\n",
    "try {\n",
    "  (3000 to 5000 by 100).map { i =>\n",
    "    println(s\"I is: $i\")\n",
    "    try {\n",
    "      fibonacci_not_tail_recursive(i)\n",
    "    } catch {\n",
    "      case e: StackOverflowError =>\n",
    "        throw new RuntimeException(\n",
    "          s\"\"\"\n",
    "             |Stack length that we reached was $i\n",
    "             |see https://blogs.oracle.com/saas-fusion-app-performance/how-to-set-stack-size-to-overcome-javalangstackoverflowerror\")\n",
    "           \"\"\".stripMargin)\n",
    "    }\n",
    "  }\n",
    "} catch {\n",
    "  case e: RuntimeException =>\n",
    "    println(e.getMessage)\n",
    "}\n",
    "\n",
    "def sum(i: Int, j: Int, f: Int => Int): Int = {\n",
    "  if (i < j) f(i) + sum(i + 1, j, f)\n",
    "  else f(j)\n",
    "}\n",
    "\n",
    "def sumtr(i: Int, j: Int, f: Int => Int): Int = {\n",
    "  @tailrec def loop(acc: Int, i: Int, j: Int, f: Int => Int): Int = {\n",
    "    if(i > j) acc\n",
    "    else loop(acc + f(i), i + 1, j, f)\n",
    "  }\n",
    "\n",
    "  loop(0, i, j, f)\n",
    "}\n",
    "sumtr(1, 3, k => k * k)\n",
    "sum(1, 3, k => k * k)\n",
    "\n",
    "val params = Tuple3(1,5,(k:Int) => k * k * k)\n",
    "\n",
    "assert(sum(1, 3, k => k * k) == sumtr(1, 3, k => k * k))\n",
    "assert(sum(1,5, k => k * k * k) == sumtr(params._1, params._2, params._3))\n"
   ]
  },
  {
   "cell_type": "markdown",
   "metadata": {},
   "source": [
    "#### Use assertions [http://wiki.c2.com/?UseAssertions](http://wiki.c2.com/?UseAssertions)"
   ]
  },
  {
   "cell_type": "markdown",
   "metadata": {},
   "source": [
    "## Currying and higher order functions"
   ]
  },
  {
   "cell_type": "code",
   "execution_count": 36,
   "metadata": {},
   "outputs": [
    {
     "name": "stdout",
     "output_type": "stream",
     "text": [
      "1.5\n",
      "1.75\n",
      "1.875\n",
      "1.9375\n",
      "1.96875\n",
      "1.984375\n",
      "1.9921875\n",
      "1.99609375\n",
      "1.998046875\n",
      "1.9990234375\n",
      "1.99951171875\n",
      "1.999755859375\n",
      "1.9998779296875\n",
      "1.5\n",
      "1.4166666666666665\n",
      "1.4142156862745097\n",
      "1.4142135623746899\n",
      "1.5\n",
      "1.4166666666666665\n",
      "1.4142156862745097\n",
      "1.4142135623746899\n"
     ]
    },
    {
     "data": {
      "text/plain": [
       "defined \u001b[32mfunction\u001b[39m \u001b[36moperationOnInterval\u001b[39m\n",
       "defined \u001b[32mfunction\u001b[39m \u001b[36mproduct\u001b[39m\n",
       "defined \u001b[32mfunction\u001b[39m \u001b[36misCloseEnough\u001b[39m\n",
       "defined \u001b[32mfunction\u001b[39m \u001b[36mfixedPoint\u001b[39m\n",
       "\u001b[36mres35_8\u001b[39m: \u001b[32mDouble\u001b[39m = \u001b[32m1.9998779296875\u001b[39m\n",
       "defined \u001b[32mfunction\u001b[39m \u001b[36maverageDump\u001b[39m\n",
       "defined \u001b[32mfunction\u001b[39m \u001b[36msqrt\u001b[39m\n",
       "\u001b[36mres35_11\u001b[39m: \u001b[32mDouble\u001b[39m = \u001b[32m1.4142135623746899\u001b[39m"
      ]
     },
     "execution_count": 36,
     "metadata": {},
     "output_type": "execute_result"
    }
   ],
   "source": [
    "def operationOnInterval(op: (Int, Int) => Int, init: Int)(f: Int=>Int)(i: Int, j: Int): Int = {\n",
    "  if (i > j) init\n",
    "  else op(f(i), operationOnInterval(op, init)(f)(i + 1, j))\n",
    "}\n",
    "\n",
    "def product(f: Int => Int)(i: Int, j: Int) =\n",
    "  operationOnInterval((i:Int, j:Int) => i * j, 1)(f)(i, j)\n",
    "\n",
    "assert(product(k => k * k)(1,4) == 576)\n",
    "assert(product(k => k)(1,4) == 24)\n",
    "\n",
    "def isCloseEnough(x: Double, y: Double, tollerance: Double = 0.0001): Boolean = {\n",
    "  Math.abs(x - y) / y < tollerance\n",
    "}\n",
    "assert(! isCloseEnough(1, 1.001, 0.0005))\n",
    "assert(isCloseEnough(1, 1.001, 0.01))\n",
    "\n",
    "@tailrec def fixedPoint(f: Double => Double)(init: Double): Double = {\n",
    "  val next = f(init)\n",
    "  println(next)\n",
    "  if(isCloseEnough(next, init)) next\n",
    "  else fixedPoint(f)(next)\n",
    "}\n",
    "\n",
    "fixedPoint(x => 1 + x / 2)(1)\n",
    "\n",
    "// We can use averageDump whenever we use f, as returned function takes a param (currying)\n",
    "def averageDump(f: Double => Double)(x: Double): Double = (f(x) + x) / 2\n",
    "\n",
    "// here we use a fixed point method to define square root\n",
    "// sqrt is y that y * y = x, so y = x / y - if we find a point where y = x/y, we are close :)\n",
    "\n",
    "def sqrt(x: Double) = fixedPoint(averageDump((y:Double) => x / y))(1)\n",
    "\n",
    "sqrt(2)\n",
    "\n",
    "assert(isCloseEnough(sqrt(2), Math.sqrt(2)))"
   ]
  },
  {
   "cell_type": "markdown",
   "metadata": {},
   "source": [
    "#### Exercise\n",
    "\n",
    " 1. Define product method (tail recursive)\n",
    " 1. Define factorial using product"
   ]
  },
  {
   "cell_type": "code",
   "execution_count": null,
   "metadata": {
    "collapsed": true
   },
   "outputs": [],
   "source": []
  }
 ],
 "metadata": {
  "kernelspec": {
   "display_name": "Scala",
   "language": "scala",
   "name": "scala"
  },
  "language_info": {
   "codemirror_mode": "text/x-scala",
   "file_extension": ".scala",
   "mimetype": "text/x-scala",
   "name": "scala211",
   "nbconvert_exporter": "script",
   "pygments_lexer": "scala",
   "version": "2.11.11"
  }
 },
 "nbformat": 4,
 "nbformat_minor": 2
}
