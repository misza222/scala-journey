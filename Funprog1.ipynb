{
 "cells": [
  {
   "cell_type": "markdown",
   "metadata": {},
   "source": [
    "# Basics\n",
    "\n",
    "Mostly exercises and experiments made during\n",
    "[Martin Odersky's functional programming course on Coursera](https://www.coursera.org/learn/progfun1)"
   ]
  },
  {
   "cell_type": "markdown",
   "metadata": {},
   "source": [
    "## (Tail) recursion"
   ]
  },
  {
   "cell_type": "code",
   "execution_count": 3,
   "metadata": {},
   "outputs": [
    {
     "name": "stdout",
     "output_type": "stream",
     "text": [
      "I is: 1000\n",
      "I is: 2000\n",
      "I is: 3000\n",
      "I is: 4000\n",
      "I is: 5000\n",
      "\n",
      "Stack length that we reached was 5000\n",
      "see https://blogs.oracle.com/saas-fusion-app-performance/how-to-set-stack-size-to-overcome-javalangstackoverflowerror\")\n",
      "           \n"
     ]
    },
    {
     "data": {
      "text/plain": [
       "\u001b[32mimport \u001b[39m\u001b[36mscala.annotation.tailrec\n",
       "\n",
       "\u001b[39m\n",
       "defined \u001b[32mfunction\u001b[39m \u001b[36mfibonacci_tail_recursive\u001b[39m\n",
       "defined \u001b[32mfunction\u001b[39m \u001b[36mfibonacci_not_tail_recursive\u001b[39m\n",
       "\u001b[36mres2_3\u001b[39m: \u001b[32mBigInt\u001b[39m = 93326215443944152681699238856266700490715968264381621468592963895217599993229915608941463976156518286253697920827223758251185210916864000000000000000000000000\n",
       "\u001b[36mres2_4\u001b[39m: \u001b[32mBigInt\u001b[39m = 93326215443944152681699238856266700490715968264381621468592963895217599993229915608941463976156518286253697920827223758251185210916864000000000000000000000000\n",
       "\u001b[36mres2_5\u001b[39m: \u001b[32mBigInt\u001b[39m = 334732050959714483691547609407148647791277322381045480773010032199016802214436564169738123107191693087984804381902082998936163847430666937426305728453637840383257562821233599872682440782359723560408538544413733837535685655363711683274051660761551659214061560754612942017905674796654986292422200225415535107181598016154764518106166749702179965374749725411393381916388235006303076442568748572713946510819098749096434862685892298078700310310089628611545539799116129406523273969714972110312611428607337935096878373558118306095517289066038335925328516359617308852798119573994952994503063544424784926410289900695596348835299005576765509291754759207880448076225624151651304590463180685174067663600123295564540657242251754734281831210291957155937874236411171945138385930380064131329763125089806239538698453528362674590973925187347791738698054874418218564843850349196433374384607147670018127809768669571553722962855502892722067813944384180192842621504107232838331803147\u001b[33m...\u001b[39m\n",
       "\u001b[36mres2_6\u001b[39m: \u001b[32mAny\u001b[39m = ()\n",
       "defined \u001b[32mfunction\u001b[39m \u001b[36msum\u001b[39m\n",
       "defined \u001b[32mfunction\u001b[39m \u001b[36msumtr\u001b[39m\n",
       "\u001b[36mres2_9\u001b[39m: \u001b[32mInt\u001b[39m = \u001b[32m14\u001b[39m\n",
       "\u001b[36mres2_10\u001b[39m: \u001b[32mInt\u001b[39m = \u001b[32m14\u001b[39m\n",
       "\u001b[36mparams\u001b[39m: (\u001b[32mInt\u001b[39m, \u001b[32mInt\u001b[39m, \u001b[32mInt\u001b[39m => \u001b[32mInt\u001b[39m) = (\u001b[32m1\u001b[39m, \u001b[32m5\u001b[39m, <function1>)"
      ]
     },
     "execution_count": 3,
     "metadata": {},
     "output_type": "execute_result"
    }
   ],
   "source": [
    "import scala.annotation.tailrec\n",
    "\n",
    "def fibonacci_tail_recursive(n: Long): BigInt = {\n",
    "// @tailrec enforces method it annotates to be tail recursive\n",
    "@tailrec def fib(n: Long, acc: BigInt): BigInt = n match {\n",
    "  case n if n >= 1 => fib(n - 1, acc * n)\n",
    "  case _ => acc\n",
    "  }\n",
    "\n",
    "  fib(n, 1)\n",
    "}\n",
    "\n",
    "def fibonacci_not_tail_recursive(n: BigInt): BigInt = n match {\n",
    "  case n if n > 1 => n * fibonacci_not_tail_recursive(n - 1)\n",
    "  case _ => 1\n",
    "}\n",
    "\n",
    "fibonacci_tail_recursive(100)\n",
    "\n",
    "fibonacci_not_tail_recursive(100) // should work if currect max stack size is > 1000\n",
    "\n",
    "fibonacci_tail_recursive(50000)\n",
    "\n",
    "// fibonacci_not_tail_recursive(50000) // will probably not work without changing jvm settings\n",
    "\n",
    "try {\n",
    "  (1000 to 20000 by 1000).map { i =>\n",
    "    println(s\"I is: $i\")\n",
    "    try {\n",
    "      fibonacci_not_tail_recursive(i)\n",
    "    } catch {\n",
    "      case e: StackOverflowError =>\n",
    "        throw new RuntimeException(\n",
    "          s\"\"\"\n",
    "             |Stack length that we reached was $i\n",
    "             |see https://blogs.oracle.com/saas-fusion-app-performance/how-to-set-stack-size-to-overcome-javalangstackoverflowerror\")\n",
    "           \"\"\".stripMargin)\n",
    "    }\n",
    "  }\n",
    "} catch {\n",
    "  case e: RuntimeException =>\n",
    "    println(e.getMessage)\n",
    "}\n",
    "\n",
    "def sum(i: Int, j: Int, f: Int => Int): Int = {\n",
    "  if (i < j) f(i) + sum(i + 1, j, f)\n",
    "  else f(j)\n",
    "}\n",
    "\n",
    "def sumtr(i: Int, j: Int, f: Int => Int): Int = {\n",
    "  @tailrec def loop(acc: Int, i: Int, j: Int, f: Int => Int): Int = {\n",
    "    if(i > j) acc\n",
    "    else loop(acc + f(i), i + 1, j, f)\n",
    "  }\n",
    "\n",
    "  loop(0, i, j, f)\n",
    "}\n",
    "sumtr(1, 3, k => k * k)\n",
    "sum(1, 3, k => k * k)\n",
    "\n",
    "val params = Tuple3(1,5,(k:Int) => k * k * k)\n",
    "\n",
    "assert(sum(1, 3, k => k * k) == sumtr(1, 3, k => k * k))\n",
    "assert(sum(1,5, k => k * k * k) == sumtr(params._1, params._2, params._3))\n"
   ]
  },
  {
   "cell_type": "markdown",
   "metadata": {},
   "source": [
    "#### Use assertions [http://wiki.c2.com/?UseAssertions](http://wiki.c2.com/?UseAssertions)"
   ]
  },
  {
   "cell_type": "markdown",
   "metadata": {},
   "source": [
    "## Currying and higher order functions"
   ]
  },
  {
   "cell_type": "code",
   "execution_count": 36,
   "metadata": {},
   "outputs": [
    {
     "name": "stdout",
     "output_type": "stream",
     "text": [
      "1.5\n",
      "1.75\n",
      "1.875\n",
      "1.9375\n",
      "1.96875\n",
      "1.984375\n",
      "1.9921875\n",
      "1.99609375\n",
      "1.998046875\n",
      "1.9990234375\n",
      "1.99951171875\n",
      "1.999755859375\n",
      "1.9998779296875\n",
      "1.5\n",
      "1.4166666666666665\n",
      "1.4142156862745097\n",
      "1.4142135623746899\n",
      "1.5\n",
      "1.4166666666666665\n",
      "1.4142156862745097\n",
      "1.4142135623746899\n"
     ]
    },
    {
     "data": {
      "text/plain": [
       "defined \u001b[32mfunction\u001b[39m \u001b[36moperationOnInterval\u001b[39m\n",
       "defined \u001b[32mfunction\u001b[39m \u001b[36mproduct\u001b[39m\n",
       "defined \u001b[32mfunction\u001b[39m \u001b[36misCloseEnough\u001b[39m\n",
       "defined \u001b[32mfunction\u001b[39m \u001b[36mfixedPoint\u001b[39m\n",
       "\u001b[36mres35_8\u001b[39m: \u001b[32mDouble\u001b[39m = \u001b[32m1.9998779296875\u001b[39m\n",
       "defined \u001b[32mfunction\u001b[39m \u001b[36maverageDump\u001b[39m\n",
       "defined \u001b[32mfunction\u001b[39m \u001b[36msqrt\u001b[39m\n",
       "\u001b[36mres35_11\u001b[39m: \u001b[32mDouble\u001b[39m = \u001b[32m1.4142135623746899\u001b[39m"
      ]
     },
     "execution_count": 36,
     "metadata": {},
     "output_type": "execute_result"
    }
   ],
   "source": [
    "def operationOnInterval(op: (Int, Int) => Int, init: Int)(f: Int=>Int)(i: Int, j: Int): Int = {\n",
    "  if (i > j) init\n",
    "  else op(f(i), operationOnInterval(op, init)(f)(i + 1, j))\n",
    "}\n",
    "\n",
    "def product(f: Int => Int)(i: Int, j: Int) =\n",
    "  operationOnInterval((i:Int, j:Int) => i * j, 1)(f)(i, j)\n",
    "\n",
    "assert(product(k => k * k)(1,4) == 576)\n",
    "assert(product(k => k)(1,4) == 24)\n",
    "\n",
    "def isCloseEnough(x: Double, y: Double, tollerance: Double = 0.0001): Boolean = {\n",
    "  Math.abs(x - y) / y < tollerance\n",
    "}\n",
    "assert(! isCloseEnough(1, 1.001, 0.0005))\n",
    "assert(isCloseEnough(1, 1.001, 0.01))\n",
    "\n",
    "@tailrec def fixedPoint(f: Double => Double)(init: Double): Double = {\n",
    "  val next = f(init)\n",
    "  println(next)\n",
    "  if(isCloseEnough(next, init)) next\n",
    "  else fixedPoint(f)(next)\n",
    "}\n",
    "\n",
    "fixedPoint(x => 1 + x / 2)(1)\n",
    "\n",
    "// We can use averageDump whenever we use f, as returned function takes a param (currying)\n",
    "def averageDump(f: Double => Double)(x: Double): Double = (f(x) + x) / 2\n",
    "\n",
    "// here we use a fixed point method to define square root\n",
    "// sqrt is y that y * y = x, so y = x / y - if we find a point where y = x/y, we are close :)\n",
    "\n",
    "def sqrt(x: Double) = fixedPoint(averageDump((y:Double) => x / y))(1)\n",
    "\n",
    "sqrt(2)\n",
    "\n",
    "assert(isCloseEnough(sqrt(2), Math.sqrt(2)))"
   ]
  },
  {
   "cell_type": "markdown",
   "metadata": {},
   "source": [
    "#### Exercise\n",
    "\n",
    " 1. Define product method (tail recursive)\n",
    " 1. Define factorial using product"
   ]
  },
  {
   "cell_type": "markdown",
   "metadata": {
    "collapsed": true
   },
   "source": [
    "## Classes"
   ]
  },
  {
   "cell_type": "markdown",
   "metadata": {},
   "source": [
    "#### Use `require` to validate input"
   ]
  },
  {
   "cell_type": "code",
   "execution_count": 50,
   "metadata": {},
   "outputs": [
    {
     "data": {
      "text/plain": [
       "defined \u001b[32mclass\u001b[39m \u001b[36mRational\u001b[39m\n",
       "\u001b[36mone\u001b[39m: \u001b[32mwrapper\u001b[39m.\u001b[32mwrapper\u001b[39m.\u001b[32mRational\u001b[39m = 1 / 1\n",
       "\u001b[36mtwo\u001b[39m: \u001b[32mwrapper\u001b[39m.\u001b[32mwrapper\u001b[39m.\u001b[32mRational\u001b[39m = 2 / 1\n",
       "\u001b[36mtwoThirds\u001b[39m: \u001b[32mwrapper\u001b[39m.\u001b[32mwrapper\u001b[39m.\u001b[32mRational\u001b[39m = 2 / 3\n",
       "\u001b[36mhalf\u001b[39m: \u001b[32mwrapper\u001b[39m.\u001b[32mwrapper\u001b[39m.\u001b[32mRational\u001b[39m = 1 / 2\n",
       "\u001b[36mres49_5\u001b[39m: \u001b[32mwrapper\u001b[39m.\u001b[32mwrapper\u001b[39m.\u001b[32mRational\u001b[39m = 8 / 3\n",
       "\u001b[36mres49_6\u001b[39m: \u001b[32mwrapper\u001b[39m.\u001b[32mwrapper\u001b[39m.\u001b[32mRational\u001b[39m = 1 / 1\n",
       "\u001b[36mres49_7\u001b[39m: \u001b[32mwrapper\u001b[39m.\u001b[32mwrapper\u001b[39m.\u001b[32mRational\u001b[39m = 0 / 1\n",
       "\u001b[36mres49_8\u001b[39m: \u001b[32mBoolean\u001b[39m = \u001b[32mfalse\u001b[39m\n",
       "\u001b[36mres49_9\u001b[39m: \u001b[32mwrapper\u001b[39m.\u001b[32mwrapper\u001b[39m.\u001b[32mRational\u001b[39m = 2 / 1"
      ]
     },
     "execution_count": 50,
     "metadata": {},
     "output_type": "execute_result"
    }
   ],
   "source": [
    "class Rational(x: Int, y: Int) {\n",
    "    require(y != 0, \"Denominator cannot be 0\")\n",
    "    \n",
    "    private def gcd(a: Int, b: Int): Int = {\n",
    "        if (b == 0) a else gcd(b, a % b)\n",
    "    }\n",
    "    val g = gcd(x, y)\n",
    "    val numer = x / g\n",
    "    val denom = y / g\n",
    "    \n",
    "    def this(x: Int) = this(x, 1)\n",
    "    \n",
    "    def + (that: Rational) =\n",
    "        new Rational(\n",
    "            this.numer * that.denom + that.numer * this.denom,\n",
    "            this.denom * that.denom\n",
    "        )\n",
    "    \n",
    "    def < (that: Rational) = this.numer * that.denom < that.numer * this.denom\n",
    "    \n",
    "    def * (i: Int) = new Rational(numer * i, denom)\n",
    "    \n",
    "    def max (that: Rational) = if(this < that) that else this\n",
    "    \n",
    "    def unary_- = new Rational(-numer, denom)\n",
    "    \n",
    "    def - (other: Rational) = this + -other\n",
    "    \n",
    "    override def toString = s\"$numer / $denom\"\n",
    "}\n",
    "\n",
    "// new Rational(1,0) // throws an IllegalArgumentException\n",
    "\n",
    "val one = new Rational(1)\n",
    "val two = new Rational(2)\n",
    "val twoThirds = new Rational(2,3)\n",
    "val half = new Rational(1,2)\n",
    "\n",
    "// methods as infix operators\n",
    "two + twoThirds\n",
    "half + half\n",
    "half - half\n",
    "\n",
    "two < half\n",
    "\n",
    "\n",
    "// Operator precedence in scala is predefiend \n",
    "// http://scala-lang.org/files/archive/spec/2.11/06-expressions.html#infix-operations\n",
    "two max half * 2 + half"
   ]
  },
  {
   "cell_type": "code",
   "execution_count": null,
   "metadata": {
    "collapsed": true
   },
   "outputs": [],
   "source": []
  }
 ],
 "metadata": {
  "kernelspec": {
   "display_name": "Scala",
   "language": "scala",
   "name": "scala"
  },
  "language_info": {
   "codemirror_mode": "text/x-scala",
   "file_extension": ".scala",
   "mimetype": "text/x-scala",
   "name": "scala211",
   "nbconvert_exporter": "script",
   "pygments_lexer": "scala",
   "version": "2.11.11"
  }
 },
 "nbformat": 4,
 "nbformat_minor": 2
}
