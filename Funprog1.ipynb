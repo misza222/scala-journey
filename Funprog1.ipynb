{
 "cells": [
  {
   "cell_type": "markdown",
   "metadata": {},
   "source": [
    "# Basics\n",
    "\n",
    "Mostly exercises and experiments made during\n",
    "[Martin Odersky's functional programming course on Coursera](https://www.coursera.org/learn/progfun1)"
   ]
  },
  {
   "cell_type": "markdown",
   "metadata": {},
   "source": [
    "## (Tail) recursion"
   ]
  },
  {
   "cell_type": "code",
   "execution_count": 3,
   "metadata": {},
   "outputs": [
    {
     "name": "stdout",
     "output_type": "stream",
     "text": [
      "I is: 1000\n",
      "I is: 2000\n",
      "I is: 3000\n",
      "I is: 4000\n",
      "I is: 5000\n",
      "\n",
      "Stack length that we reached was 5000\n",
      "see https://blogs.oracle.com/saas-fusion-app-performance/how-to-set-stack-size-to-overcome-javalangstackoverflowerror\")\n",
      "           \n"
     ]
    },
    {
     "data": {
      "text/plain": [
       "\u001b[32mimport \u001b[39m\u001b[36mscala.annotation.tailrec\n",
       "\n",
       "\u001b[39m\n",
       "defined \u001b[32mfunction\u001b[39m \u001b[36mfibonacci_tail_recursive\u001b[39m\n",
       "defined \u001b[32mfunction\u001b[39m \u001b[36mfibonacci_not_tail_recursive\u001b[39m\n",
       "\u001b[36mres2_3\u001b[39m: \u001b[32mBigInt\u001b[39m = 93326215443944152681699238856266700490715968264381621468592963895217599993229915608941463976156518286253697920827223758251185210916864000000000000000000000000\n",
       "\u001b[36mres2_4\u001b[39m: \u001b[32mBigInt\u001b[39m = 93326215443944152681699238856266700490715968264381621468592963895217599993229915608941463976156518286253697920827223758251185210916864000000000000000000000000\n",
       "\u001b[36mres2_5\u001b[39m: \u001b[32mBigInt\u001b[39m = 334732050959714483691547609407148647791277322381045480773010032199016802214436564169738123107191693087984804381902082998936163847430666937426305728453637840383257562821233599872682440782359723560408538544413733837535685655363711683274051660761551659214061560754612942017905674796654986292422200225415535107181598016154764518106166749702179965374749725411393381916388235006303076442568748572713946510819098749096434862685892298078700310310089628611545539799116129406523273969714972110312611428607337935096878373558118306095517289066038335925328516359617308852798119573994952994503063544424784926410289900695596348835299005576765509291754759207880448076225624151651304590463180685174067663600123295564540657242251754734281831210291957155937874236411171945138385930380064131329763125089806239538698453528362674590973925187347791738698054874418218564843850349196433374384607147670018127809768669571553722962855502892722067813944384180192842621504107232838331803147\u001b[33m...\u001b[39m\n",
       "\u001b[36mres2_6\u001b[39m: \u001b[32mAny\u001b[39m = ()\n",
       "defined \u001b[32mfunction\u001b[39m \u001b[36msum\u001b[39m\n",
       "defined \u001b[32mfunction\u001b[39m \u001b[36msumtr\u001b[39m\n",
       "\u001b[36mres2_9\u001b[39m: \u001b[32mInt\u001b[39m = \u001b[32m14\u001b[39m\n",
       "\u001b[36mres2_10\u001b[39m: \u001b[32mInt\u001b[39m = \u001b[32m14\u001b[39m\n",
       "\u001b[36mparams\u001b[39m: (\u001b[32mInt\u001b[39m, \u001b[32mInt\u001b[39m, \u001b[32mInt\u001b[39m => \u001b[32mInt\u001b[39m) = (\u001b[32m1\u001b[39m, \u001b[32m5\u001b[39m, <function1>)"
      ]
     },
     "execution_count": 3,
     "metadata": {},
     "output_type": "execute_result"
    }
   ],
   "source": [
    "import scala.annotation.tailrec\n",
    "\n",
    "def fibonacci_tail_recursive(n: Long): BigInt = {\n",
    "// @tailrec enforces method it annotates to be tail recursive\n",
    "    @tailrec def fib(n: Long, acc: BigInt): BigInt = n match {\n",
    "      case n if n >= 1 => fib(n - 1, acc * n)\n",
    "      case _ => acc\n",
    "    }\n",
    "\n",
    "  fib(n, 1)\n",
    "}\n",
    "\n",
    "def fibonacci_not_tail_recursive(n: BigInt): BigInt = n match {\n",
    "  case n if n > 1 => n * fibonacci_not_tail_recursive(n - 1)\n",
    "  case _ => 1\n",
    "}\n",
    "\n",
    "fibonacci_tail_recursive(100)\n",
    "\n",
    "fibonacci_not_tail_recursive(100) // should work if currect max stack size is > 1000\n",
    "\n",
    "fibonacci_tail_recursive(50000)\n",
    "\n",
    "// fibonacci_not_tail_recursive(50000) // will probably not work without changing jvm settings\n",
    "\n",
    "try {\n",
    "  (1000 to 20000 by 1000).map { i =>\n",
    "    println(s\"I is: $i\")\n",
    "    try {\n",
    "      fibonacci_not_tail_recursive(i)\n",
    "    } catch {\n",
    "      case e: StackOverflowError =>\n",
    "        throw new RuntimeException(\n",
    "          s\"\"\"\n",
    "             |Stack length that we reached was $i\n",
    "             |see https://blogs.oracle.com/saas-fusion-app-performance/how-to-set-stack-size-to-overcome-javalangstackoverflowerror\")\n",
    "           \"\"\".stripMargin)\n",
    "    }\n",
    "  }\n",
    "} catch {\n",
    "  case e: RuntimeException =>\n",
    "    println(e.getMessage)\n",
    "}\n",
    "\n",
    "def sum(i: Int, j: Int, f: Int => Int): Int = {\n",
    "  if (i < j) f(i) + sum(i + 1, j, f)\n",
    "  else f(j)\n",
    "}\n",
    "\n",
    "def sumtr(i: Int, j: Int, f: Int => Int): Int = {\n",
    "  @tailrec def loop(acc: Int, i: Int, j: Int, f: Int => Int): Int = {\n",
    "    if(i > j) acc\n",
    "    else loop(acc + f(i), i + 1, j, f)\n",
    "  }\n",
    "\n",
    "  loop(0, i, j, f)\n",
    "}\n",
    "sumtr(1, 3, k => k * k)\n",
    "sum(1, 3, k => k * k)\n",
    "\n",
    "val params = Tuple3(1,5,(k:Int) => k * k * k)\n",
    "\n",
    "assert(sum(1, 3, k => k * k) == sumtr(1, 3, k => k * k))\n",
    "assert(sum(1,5, k => k * k * k) == sumtr(params._1, params._2, params._3))\n"
   ]
  },
  {
   "cell_type": "markdown",
   "metadata": {},
   "source": [
    "#### Use assertions [http://wiki.c2.com/?UseAssertions](http://wiki.c2.com/?UseAssertions)"
   ]
  },
  {
   "cell_type": "markdown",
   "metadata": {},
   "source": [
    "## Currying and higher order functions"
   ]
  },
  {
   "cell_type": "markdown",
   "metadata": {},
   "source": [
    "*Example:* Sqrt using fixed point of a function"
   ]
  },
  {
   "cell_type": "code",
   "execution_count": 36,
   "metadata": {},
   "outputs": [
    {
     "name": "stdout",
     "output_type": "stream",
     "text": [
      "1.5\n",
      "1.75\n",
      "1.875\n",
      "1.9375\n",
      "1.96875\n",
      "1.984375\n",
      "1.9921875\n",
      "1.99609375\n",
      "1.998046875\n",
      "1.9990234375\n",
      "1.99951171875\n",
      "1.999755859375\n",
      "1.9998779296875\n",
      "1.5\n",
      "1.4166666666666665\n",
      "1.4142156862745097\n",
      "1.4142135623746899\n",
      "1.5\n",
      "1.4166666666666665\n",
      "1.4142156862745097\n",
      "1.4142135623746899\n"
     ]
    },
    {
     "data": {
      "text/plain": [
       "defined \u001b[32mfunction\u001b[39m \u001b[36moperationOnInterval\u001b[39m\n",
       "defined \u001b[32mfunction\u001b[39m \u001b[36mproduct\u001b[39m\n",
       "defined \u001b[32mfunction\u001b[39m \u001b[36misCloseEnough\u001b[39m\n",
       "defined \u001b[32mfunction\u001b[39m \u001b[36mfixedPoint\u001b[39m\n",
       "\u001b[36mres35_8\u001b[39m: \u001b[32mDouble\u001b[39m = \u001b[32m1.9998779296875\u001b[39m\n",
       "defined \u001b[32mfunction\u001b[39m \u001b[36maverageDump\u001b[39m\n",
       "defined \u001b[32mfunction\u001b[39m \u001b[36msqrt\u001b[39m\n",
       "\u001b[36mres35_11\u001b[39m: \u001b[32mDouble\u001b[39m = \u001b[32m1.4142135623746899\u001b[39m"
      ]
     },
     "execution_count": 36,
     "metadata": {},
     "output_type": "execute_result"
    }
   ],
   "source": [
    "def operationOnInterval(op: (Int, Int) => Int, init: Int)(f: Int=>Int)(i: Int, j: Int): Int = {\n",
    "  if (i > j) init\n",
    "  else op(f(i), operationOnInterval(op, init)(f)(i + 1, j))\n",
    "}\n",
    "\n",
    "def product(f: Int => Int)(i: Int, j: Int) =\n",
    "  operationOnInterval((i:Int, j:Int) => i * j, 1)(f)(i, j)\n",
    "\n",
    "assert(product(k => k * k)(1,4) == 576)\n",
    "assert(product(k => k)(1,4) == 24)\n",
    "\n",
    "def isCloseEnough(x: Double, y: Double, tollerance: Double = 0.0001): Boolean = {\n",
    "  Math.abs(x - y) / y < tollerance\n",
    "}\n",
    "assert(! isCloseEnough(1, 1.001, 0.0005))\n",
    "assert(isCloseEnough(1, 1.001, 0.01))\n",
    "\n",
    "@tailrec def fixedPoint(f: Double => Double)(init: Double): Double = {\n",
    "  val next = f(init)\n",
    "  println(next)\n",
    "  if(isCloseEnough(next, init)) next\n",
    "  else fixedPoint(f)(next)\n",
    "}\n",
    "\n",
    "fixedPoint(x => 1 + x / 2)(1)\n",
    "\n",
    "// We can use averageDump whenever we use f, as returned function takes a param (currying)\n",
    "def averageDump(f: Double => Double)(x: Double): Double = (f(x) + x) / 2\n",
    "\n",
    "// here we use a fixed point method to define square root\n",
    "// sqrt is y that y * y = x, so y = x / y - if we find a point where y = x/y, we are close :)\n",
    "\n",
    "def sqrt(x: Double) = fixedPoint(averageDump((y:Double) => x / y))(1)\n",
    "\n",
    "sqrt(2)\n",
    "\n",
    "assert(isCloseEnough(sqrt(2), Math.sqrt(2)))"
   ]
  },
  {
   "cell_type": "markdown",
   "metadata": {},
   "source": [
    "#### Exercise\n",
    "\n",
    " 1. Define product method (tail recursive)\n",
    " 1. Define factorial using product"
   ]
  },
  {
   "cell_type": "markdown",
   "metadata": {
    "collapsed": true
   },
   "source": [
    "## Classes"
   ]
  },
  {
   "cell_type": "markdown",
   "metadata": {},
   "source": [
    "#### Use `require` to validate input"
   ]
  },
  {
   "cell_type": "code",
   "execution_count": 50,
   "metadata": {},
   "outputs": [
    {
     "data": {
      "text/plain": [
       "defined \u001b[32mclass\u001b[39m \u001b[36mRational\u001b[39m\n",
       "\u001b[36mone\u001b[39m: \u001b[32mwrapper\u001b[39m.\u001b[32mwrapper\u001b[39m.\u001b[32mRational\u001b[39m = 1 / 1\n",
       "\u001b[36mtwo\u001b[39m: \u001b[32mwrapper\u001b[39m.\u001b[32mwrapper\u001b[39m.\u001b[32mRational\u001b[39m = 2 / 1\n",
       "\u001b[36mtwoThirds\u001b[39m: \u001b[32mwrapper\u001b[39m.\u001b[32mwrapper\u001b[39m.\u001b[32mRational\u001b[39m = 2 / 3\n",
       "\u001b[36mhalf\u001b[39m: \u001b[32mwrapper\u001b[39m.\u001b[32mwrapper\u001b[39m.\u001b[32mRational\u001b[39m = 1 / 2\n",
       "\u001b[36mres49_5\u001b[39m: \u001b[32mwrapper\u001b[39m.\u001b[32mwrapper\u001b[39m.\u001b[32mRational\u001b[39m = 8 / 3\n",
       "\u001b[36mres49_6\u001b[39m: \u001b[32mwrapper\u001b[39m.\u001b[32mwrapper\u001b[39m.\u001b[32mRational\u001b[39m = 1 / 1\n",
       "\u001b[36mres49_7\u001b[39m: \u001b[32mwrapper\u001b[39m.\u001b[32mwrapper\u001b[39m.\u001b[32mRational\u001b[39m = 0 / 1\n",
       "\u001b[36mres49_8\u001b[39m: \u001b[32mBoolean\u001b[39m = \u001b[32mfalse\u001b[39m\n",
       "\u001b[36mres49_9\u001b[39m: \u001b[32mwrapper\u001b[39m.\u001b[32mwrapper\u001b[39m.\u001b[32mRational\u001b[39m = 2 / 1"
      ]
     },
     "execution_count": 50,
     "metadata": {},
     "output_type": "execute_result"
    }
   ],
   "source": [
    "class Rational(x: Int, y: Int) {\n",
    "    require(y != 0, \"Denominator cannot be 0\")\n",
    "    \n",
    "    private def gcd(a: Int, b: Int): Int = {\n",
    "        if (b == 0) a else gcd(b, a % b)\n",
    "    }\n",
    "    val g = gcd(x, y)\n",
    "    val numer = x / g\n",
    "    val denom = y / g\n",
    "    \n",
    "    def this(x: Int) = this(x, 1)\n",
    "    \n",
    "    def + (that: Rational) =\n",
    "        new Rational(\n",
    "            this.numer * that.denom + that.numer * this.denom,\n",
    "            this.denom * that.denom\n",
    "        )\n",
    "    \n",
    "    def < (that: Rational) = this.numer * that.denom < that.numer * this.denom\n",
    "    \n",
    "    def * (i: Int) = new Rational(numer * i, denom)\n",
    "    \n",
    "    def max (that: Rational) = if(this < that) that else this\n",
    "    \n",
    "    def unary_- = new Rational(-numer, denom)\n",
    "    \n",
    "    def - (other: Rational) = this + -other\n",
    "    \n",
    "    override def toString = s\"$numer / $denom\"\n",
    "}\n",
    "\n",
    "// new Rational(1,0) // throws an IllegalArgumentException\n",
    "\n",
    "val one = new Rational(1)\n",
    "val two = new Rational(2)\n",
    "val twoThirds = new Rational(2,3)\n",
    "val half = new Rational(1,2)\n",
    "\n",
    "// methods as infix operators\n",
    "two + twoThirds\n",
    "half + half\n",
    "half - half\n",
    "\n",
    "two < half\n",
    "\n",
    "\n",
    "// Operator precedence in scala is predefiend \n",
    "// http://scala-lang.org/files/archive/spec/2.11/06-expressions.html#infix-operations\n",
    "two max half * 2 + half"
   ]
  },
  {
   "cell_type": "markdown",
   "metadata": {
    "collapsed": true
   },
   "source": [
    "## IntSet"
   ]
  },
  {
   "cell_type": "code",
   "execution_count": 42,
   "metadata": {},
   "outputs": [
    {
     "data": {
      "text/plain": [
       "defined \u001b[32mclass\u001b[39m \u001b[36mIntSet\u001b[39m\n",
       "defined \u001b[32mobject\u001b[39m \u001b[36mEmpty\u001b[39m\n",
       "defined \u001b[32mclass\u001b[39m \u001b[36mNonEmpty\u001b[39m\n",
       "\u001b[36mset1\u001b[39m: \u001b[32mwrapper\u001b[39m.\u001b[32mwrapper\u001b[39m.\u001b[32mNonEmpty\u001b[39m = (._1_.)\n",
       "\u001b[36mset2\u001b[39m: \u001b[32mwrapper\u001b[39m.\u001b[32mwrapper\u001b[39m.\u001b[32mNonEmpty\u001b[39m = (._2_.)\n",
       "\u001b[36mset3\u001b[39m: \u001b[32mwrapper\u001b[39m.\u001b[32mwrapper\u001b[39m.\u001b[32mNonEmpty\u001b[39m = (._3_.)\n",
       "\u001b[36mset4\u001b[39m: \u001b[32mwrapper\u001b[39m.\u001b[32mwrapper\u001b[39m.\u001b[32mNonEmpty\u001b[39m = (._4_.)\n",
       "\u001b[36mres41_7\u001b[39m: \u001b[32mwrapper\u001b[39m.\u001b[32mwrapper\u001b[39m.\u001b[32mIntSet\u001b[39m = (._1_(._2_(._3_.)))\n",
       "\u001b[36mres41_8\u001b[39m: \u001b[32mwrapper\u001b[39m.\u001b[32mwrapper\u001b[39m.\u001b[32mIntSet\u001b[39m = ((._1_.)_2_(._3_((._4_.)_6_.)))"
      ]
     },
     "execution_count": 42,
     "metadata": {},
     "output_type": "execute_result"
    }
   ],
   "source": [
    "abstract class IntSet {\n",
    "    def contains(x: Int): Boolean\n",
    "    def incl(x: Int): IntSet\n",
    "    def union(other: IntSet): IntSet\n",
    "}\n",
    "\n",
    "object Empty extends IntSet {\n",
    "    def contains(x: Int): Boolean = false\n",
    "    def incl(x: Int): IntSet = new NonEmpty(Empty, x, Empty)\n",
    "    override def toString = \".\"\n",
    "    def union(other: IntSet): IntSet = other\n",
    "}\n",
    "\n",
    "class NonEmpty(val lTree: IntSet, val elem: Int, val rTree: IntSet) extends IntSet {\n",
    "    def contains(x: Int): Boolean = {\n",
    "        if (x < elem) lTree contains x\n",
    "        else if(x > elem) rTree contains x\n",
    "        else x == elem\n",
    "    }\n",
    "    \n",
    "    def incl(x: Int): IntSet = {\n",
    "//         println(s\"Adding $x to $this\")\n",
    "        if (x < elem) new NonEmpty(lTree incl x, elem, rTree)\n",
    "        else if (x > elem) new NonEmpty(lTree, elem, rTree incl x)\n",
    "        else this\n",
    "    }\n",
    "    \n",
    "    override def toString = s\"(${lTree}_${elem}_${rTree})\"\n",
    "    \n",
    "//     def union(other: IntSet): IntSet = {\n",
    "//         println(\"Next iteration = we got\", this, other)\n",
    "//         val lrTree =  rTree union lTree\n",
    "//         println(\"rTree union lTree\",lrTree)\n",
    "//         (lrTree union other) incl elem\n",
    "//     }\n",
    "    \n",
    "    def union(other: IntSet): IntSet = other match {\n",
    "        case Empty => this\n",
    "        case o: NonEmpty =>\n",
    "            val meWE = (this incl o.elem)\n",
    "            (meWE union o.lTree) union o.rTree\n",
    "        }\n",
    "    \n",
    "}\n",
    "\n",
    "val set1 = new NonEmpty(Empty, 1, Empty)\n",
    "val set2 = new NonEmpty(Empty, 2, Empty)\n",
    "val set3 = new NonEmpty(Empty, 3, Empty)\n",
    "val set4 = new NonEmpty(Empty, 4, Empty)\n",
    "\n",
    "set1 union set2 union set3 \n",
    "new NonEmpty(set1, 2, set3) union new NonEmpty(set4, 6, Empty)"
   ]
  },
  {
   "cell_type": "markdown",
   "metadata": {},
   "source": [
    "Traits are essentially abstract classes - check with compiler stages `scalac -Xprint:-1`"
   ]
  },
  {
   "cell_type": "code",
   "execution_count": 43,
   "metadata": {},
   "outputs": [
    {
     "data": {
      "text/plain": [
       "\u001b[36mres42\u001b[39m: \u001b[32mSet\u001b[39m[\u001b[32mNothing\u001b[39m] = Set()"
      ]
     },
     "execution_count": 43,
     "metadata": {},
     "output_type": "execute_result"
    }
   ],
   "source": [
    "Set[Nothing]()"
   ]
  },
  {
   "cell_type": "code",
   "execution_count": 119,
   "metadata": {},
   "outputs": [
    {
     "data": {
      "text/plain": [
       "defined \u001b[32mtrait\u001b[39m \u001b[36mList\u001b[39m\n",
       "defined \u001b[32mclass\u001b[39m \u001b[36mNil\u001b[39m\n",
       "defined \u001b[32mclass\u001b[39m \u001b[36mCons\u001b[39m\n",
       "defined \u001b[32mobject\u001b[39m \u001b[36mList\u001b[39m\n",
       "\u001b[36ml\u001b[39m: \u001b[32mwrapper\u001b[39m.\u001b[32mwrapper\u001b[39m.\u001b[32mList\u001b[39m[\u001b[32mInt\u001b[39m] = 2.1.Nil\n",
       "\u001b[36mres118_5\u001b[39m: \u001b[32mInt\u001b[39m = \u001b[32m2\u001b[39m\n",
       "\u001b[36mres118_6\u001b[39m: \u001b[32mwrapper\u001b[39m.\u001b[32mwrapper\u001b[39m.\u001b[32mList\u001b[39m[\u001b[32mInt\u001b[39m] = 1.2.3.Nil"
      ]
     },
     "execution_count": 119,
     "metadata": {},
     "output_type": "execute_result"
    }
   ],
   "source": [
    "trait List[T] {\n",
    "    def isEmpty: Boolean\n",
    "    def :: (head: T): List[T] = {\n",
    "        new Cons[T](head, this)\n",
    "    }\n",
    "    def nth(n: Int): T\n",
    "}\n",
    "class Nil[T] extends List[T] {\n",
    "    val isEmpty = true\n",
    "    override def toString = \"Nil\"\n",
    "    def nth(n: Int): Nothing = throw new IndexOutOfBoundsException(\"Nil.nth\")\n",
    "}\n",
    "class Cons[T](val head: T, val tail: List[T]) extends List[T] {\n",
    "    val isEmpty = false\n",
    "    def nth(n: Int): T = if (n == 0) head else tail.nth(n - 1)\n",
    "    override def toString = s\"$head.$tail\"\n",
    "}\n",
    "\n",
    "object List {\n",
    "    def apply[T](): List[T] = {\n",
    "        new Nil[T]()\n",
    "    }\n",
    "    def apply[T](x: T): List[T] = {\n",
    "        new Cons[T](x, List[T]())\n",
    "    }\n",
    "    def apply[T](x: T, y: T): List[T] = {\n",
    "        new Cons[T](x, List[T](y))\n",
    "    }\n",
    "    def apply[T](x: T, y: T, z: T): List[T] = {\n",
    "        new Cons[T](x, List[T](y, z))\n",
    "    }\n",
    "}\n",
    "\n",
    "val l = new Nil[Int].::(1).::(2)\n",
    "l.nth(0)\n",
    "\n",
    "List(1, 2,3)"
   ]
  },
  {
   "cell_type": "markdown",
   "metadata": {},
   "source": [
    "### Nat"
   ]
  },
  {
   "cell_type": "code",
   "execution_count": 108,
   "metadata": {},
   "outputs": [
    {
     "data": {
      "text/plain": [
       "\u001b[32mimport \u001b[39m\u001b[36mscala.annotation.tailrec\n",
       "\n",
       "\u001b[39m\n",
       "defined \u001b[32mclass\u001b[39m \u001b[36mNat\u001b[39m\n",
       "defined \u001b[32mobject\u001b[39m \u001b[36mZero\u001b[39m\n",
       "defined \u001b[32mclass\u001b[39m \u001b[36mSucc\u001b[39m\n",
       "\u001b[36mz\u001b[39m: \u001b[32mwrapper\u001b[39m.\u001b[32mwrapper\u001b[39m.\u001b[32mZero\u001b[39m.type = Zero\n",
       "\u001b[36m_1\u001b[39m: \u001b[32mwrapper\u001b[39m.\u001b[32mwrapper\u001b[39m.\u001b[32mNat\u001b[39m = 1\n",
       "\u001b[36m_2\u001b[39m: \u001b[32mwrapper\u001b[39m.\u001b[32mwrapper\u001b[39m.\u001b[32mNat\u001b[39m = 2\n",
       "\u001b[36m_10\u001b[39m: \u001b[32mwrapper\u001b[39m.\u001b[32mwrapper\u001b[39m.\u001b[32mNat\u001b[39m = 10\n",
       "\u001b[36mres107_8\u001b[39m: \u001b[32mwrapper\u001b[39m.\u001b[32mwrapper\u001b[39m.\u001b[32mNat\u001b[39m = 8"
      ]
     },
     "execution_count": 108,
     "metadata": {},
     "output_type": "execute_result"
    }
   ],
   "source": [
    "import scala.annotation.tailrec\n",
    "\n",
    "abstract class Nat {\n",
    "    def isZero: Boolean\n",
    "    def predecessor: Nat\n",
    "    def successor: Nat = new Succ(this)\n",
    "    def + (that: Nat): Nat\n",
    "    def - (that: Nat): Nat\n",
    "}\n",
    "\n",
    "object Zero extends Nat {\n",
    "    val isZero = true\n",
    "    def predecessor = throw new RuntimeException(\"Zero.predecessor\")\n",
    "    def + (that: Nat): Nat = that\n",
    "    def - (that: Nat): Nat = that match {\n",
    "        case Zero => this\n",
    "        case _ => throw new RuntimeException(\"Zero.-(other) which is not Zero\")\n",
    "    }\n",
    "    override def toString = \"Zero\"\n",
    "}\n",
    "\n",
    "class Succ(x: Nat) extends Nat {\n",
    "    val isZero = false\n",
    "    def predecessor: Nat = x\n",
    "    \n",
    "    def + (that: Nat): Nat = new Succ(x + that)\n",
    "    def - (that: Nat): Nat = that match {\n",
    "        case Zero => this\n",
    "        case nz => x - nz.predecessor\n",
    "    }\n",
    "    \n",
    "    override def toString = {\n",
    "        @tailrec def loop(acc: Int, nat: Nat): Int = nat match {\n",
    "            case Zero => acc\n",
    "            case nz => loop(acc + 1, nat.predecessor)\n",
    "        }\n",
    "        \n",
    "        s\"${loop(0, this)}\"\n",
    "    }\n",
    "}\n",
    "\n",
    "val z = Zero\n",
    "val _1 = Zero.successor\n",
    "val _2 = Zero.successor.successor\n",
    "\n",
    "val _10 = _1 + _2 + _2 + _1 + z + _2 + _2\n",
    "\n",
    "_10.predecessor.predecessor"
   ]
  },
  {
   "cell_type": "markdown",
   "metadata": {},
   "source": [
    "Operators ending with : (such as 'cons' operator of the list) associate to the right, and they are method calls of the right hand operands"
   ]
  },
  {
   "cell_type": "code",
   "execution_count": 7,
   "metadata": {},
   "outputs": [
    {
     "data": {
      "text/plain": [
       "\u001b[36ml1\u001b[39m: \u001b[32mList\u001b[39m[\u001b[32mInt\u001b[39m] = \u001b[33mList\u001b[39m(\u001b[32m1\u001b[39m, \u001b[32m2\u001b[39m)\n",
       "\u001b[36ml2\u001b[39m: \u001b[32mList\u001b[39m[\u001b[32mInt\u001b[39m] = \u001b[33mList\u001b[39m(\u001b[32m1\u001b[39m, \u001b[32m2\u001b[39m)\n",
       "\u001b[36ml3\u001b[39m: \u001b[32mList\u001b[39m[\u001b[32mInt\u001b[39m] = \u001b[33mList\u001b[39m(\u001b[32m1\u001b[39m, \u001b[32m2\u001b[39m)"
      ]
     },
     "execution_count": 7,
     "metadata": {},
     "output_type": "execute_result"
    }
   ],
   "source": [
    "val l1 = 1 :: 2 :: Nil\n",
    "val l2 = 1 :: (2 :: Nil)\n",
    "val l3 = Nil.::(2).::(1)\n",
    "\n",
    "assert (l1 == l2)\n",
    "assert (l2 == l3)"
   ]
  },
  {
   "cell_type": "code",
   "execution_count": 20,
   "metadata": {},
   "outputs": [
    {
     "data": {
      "text/plain": [
       "defined \u001b[32mfunction\u001b[39m \u001b[36mmyInit\u001b[39m"
      ]
     },
     "execution_count": 20,
     "metadata": {},
     "output_type": "execute_result"
    }
   ],
   "source": [
    "def myInit[T](xs: List[T]): List[T] = xs match {\n",
    "    case Nil => throw new Error(\"Nil.init\")\n",
    "    case x :: Nil => Nil\n",
    "    case x :: xs => x :: init(xs)\n",
    "}"
   ]
  },
  {
   "cell_type": "code",
   "execution_count": 21,
   "metadata": {},
   "outputs": [
    {
     "data": {
      "text/plain": [
       "\u001b[36mlistForInit\u001b[39m: \u001b[32mList\u001b[39m[\u001b[32mInt\u001b[39m] = \u001b[33mList\u001b[39m(\u001b[32m1\u001b[39m, \u001b[32m2\u001b[39m, \u001b[32m3\u001b[39m)"
      ]
     },
     "execution_count": 21,
     "metadata": {},
     "output_type": "execute_result"
    }
   ],
   "source": [
    "val listForInit = (1 :: 2 :: 3 :: Nil)\n",
    "assert( myInit(listForInit) == listForInit.init)"
   ]
  },
  {
   "cell_type": "code",
   "execution_count": 55,
   "metadata": {},
   "outputs": [
    {
     "data": {
      "text/plain": [
       "defined \u001b[32mfunction\u001b[39m \u001b[36mconcat\u001b[39m"
      ]
     },
     "execution_count": 55,
     "metadata": {},
     "output_type": "execute_result"
    }
   ],
   "source": [
    "// as ys will be at the end of the resulting list, we need to match on xs itself and add elements one by one\n",
    "def concat[T](xs: List[T], ys: List[T]): List[T] = xs match {\n",
    "    case Nil => ys\n",
    "    case x :: xs2 => x :: concat(xs2, ys)\n",
    "}"
   ]
  },
  {
   "cell_type": "code",
   "execution_count": 28,
   "metadata": {},
   "outputs": [
    {
     "data": {
      "text/plain": [
       "\u001b[36ml1\u001b[39m: \u001b[32mList\u001b[39m[\u001b[32mInt\u001b[39m] = \u001b[33mList\u001b[39m(\u001b[32m1\u001b[39m, \u001b[32m2\u001b[39m)\n",
       "\u001b[36ml2\u001b[39m: \u001b[32mList\u001b[39m[\u001b[32mInt\u001b[39m] = \u001b[33mList\u001b[39m(\u001b[32m3\u001b[39m, \u001b[32m4\u001b[39m)\n",
       "\u001b[36mres27_3\u001b[39m: \u001b[32mList\u001b[39m[\u001b[32mInt\u001b[39m] = \u001b[33mList\u001b[39m(\u001b[32m1\u001b[39m, \u001b[32m2\u001b[39m, \u001b[32m3\u001b[39m, \u001b[32m4\u001b[39m)"
      ]
     },
     "execution_count": 28,
     "metadata": {},
     "output_type": "execute_result"
    }
   ],
   "source": [
    "val l1 = List(1,2)\n",
    "val l2 = 3 :: 4 :: Nil\n",
    "assert(concat(l1, l2) == (l1 ++ l2))\n",
    "concat(l1, l2)"
   ]
  },
  {
   "cell_type": "code",
   "execution_count": 54,
   "metadata": {},
   "outputs": [
    {
     "data": {
      "text/plain": [
       "defined \u001b[32mfunction\u001b[39m \u001b[36mreverse\u001b[39m"
      ]
     },
     "execution_count": 54,
     "metadata": {},
     "output_type": "execute_result"
    }
   ],
   "source": [
    "def reverse[T](xs: List[T], acc: List[T] = List[T]()): List[T] = xs match {\n",
    "    case Nil => acc\n",
    "    case x :: xs2 => reverse(xs2, x::acc) // more obvious is reverse(xs2) ++ List(x), but N*N complexity \n",
    "}"
   ]
  },
  {
   "cell_type": "code",
   "execution_count": 38,
   "metadata": {},
   "outputs": [
    {
     "data": {
      "text/plain": [
       "\u001b[36ml1\u001b[39m: \u001b[32mList\u001b[39m[\u001b[32mInt\u001b[39m] = \u001b[33mList\u001b[39m(\u001b[32m1\u001b[39m, \u001b[32m2\u001b[39m, \u001b[32m3\u001b[39m)"
      ]
     },
     "execution_count": 38,
     "metadata": {},
     "output_type": "execute_result"
    }
   ],
   "source": [
    "val l1 = 1::2::3::Nil\n",
    "assert(reverse(l1) == l1.reverse)"
   ]
  },
  {
   "cell_type": "code",
   "execution_count": 56,
   "metadata": {},
   "outputs": [
    {
     "data": {
      "text/plain": [
       "defined \u001b[32mfunction\u001b[39m \u001b[36mremoveAt\u001b[39m\n",
       "defined \u001b[32mfunction\u001b[39m \u001b[36mremoveAt2\u001b[39m"
      ]
     },
     "execution_count": 56,
     "metadata": {},
     "output_type": "execute_result"
    }
   ],
   "source": [
    "def removeAt[T](xs: List[T], n: Int): List[T] = (xs, n) match {\n",
    "    case (Nil, _) => xs // if out of bounds, return xs itself\n",
    "    case (y :: ys, 0) => ys\n",
    "    case (y :: ys, m) => y :: removeAt(ys, m - 1)\n",
    "}\n",
    "\n",
    "def removeAt2[T](xs: List[T], n: Int): List[T] = (xs take n) ++ (xs drop n+1)"
   ]
  },
  {
   "cell_type": "code",
   "execution_count": 57,
   "metadata": {},
   "outputs": [
    {
     "data": {
      "text/plain": [
       "\u001b[32mimport \u001b[39m\u001b[36mscala.collection.mutable.ListBuffer\n",
       "\u001b[39m\n",
       "\u001b[36ml1\u001b[39m: \u001b[32mList\u001b[39m[\u001b[32mInt\u001b[39m] = \u001b[33mList\u001b[39m(\u001b[32m1\u001b[39m, \u001b[32m2\u001b[39m, \u001b[32m3\u001b[39m, \u001b[32m4\u001b[39m)\n",
       "\u001b[36mlb1\u001b[39m: \u001b[32mListBuffer\u001b[39m[\u001b[32mInt\u001b[39m] = \u001b[33mListBuffer\u001b[39m(\u001b[32m1\u001b[39m, \u001b[32m2\u001b[39m, \u001b[32m4\u001b[39m)\n",
       "\u001b[36mres56_5\u001b[39m: \u001b[32mInt\u001b[39m = \u001b[32m3\u001b[39m"
      ]
     },
     "execution_count": 57,
     "metadata": {},
     "output_type": "execute_result"
    }
   ],
   "source": [
    "import scala.collection.mutable.ListBuffer\n",
    "val l1 = 1::2::3::4::Nil\n",
    "\n",
    "assert(removeAt(Nil, 2) == Nil)\n",
    "assert(removeAt(Nil, 0) == Nil)\n",
    "val lb1 = ListBuffer(l1:_*)\n",
    "lb1.remove(2)\n",
    "assert(removeAt(l1, 2) == lb1.toList)\n",
    "assert(removeAt(l1, 2) == removeAt2(l1, 2))\n",
    "assert(removeAt(l1,10) == l1)"
   ]
  },
  {
   "cell_type": "markdown",
   "metadata": {},
   "source": [
    "### Insertion sort\n",
    "\n",
    "Algo:\n",
    " - take first elem\n",
    " - sort the rest\n",
    " - insert that first element where it fits\n",
    " \n",
    "Complexity N*N"
   ]
  },
  {
   "cell_type": "code",
   "execution_count": 59,
   "metadata": {},
   "outputs": [
    {
     "data": {
      "text/plain": [
       "defined \u001b[32mfunction\u001b[39m \u001b[36minsert\u001b[39m\n",
       "defined \u001b[32mfunction\u001b[39m \u001b[36misort\u001b[39m\n",
       "\u001b[36ml1\u001b[39m: \u001b[32mList\u001b[39m[\u001b[32mInt\u001b[39m] = \u001b[33mList\u001b[39m(\u001b[32m4\u001b[39m, \u001b[32m2\u001b[39m, \u001b[32m6\u001b[39m, \u001b[32m7\u001b[39m, \u001b[32m3\u001b[39m, \u001b[32m6\u001b[39m, \u001b[32m9\u001b[39m, \u001b[32m14\u001b[39m, \u001b[32m0\u001b[39m)\n",
       "\u001b[36mres58_3\u001b[39m: \u001b[32mList\u001b[39m[\u001b[32mInt\u001b[39m] = \u001b[33mList\u001b[39m(\u001b[32m0\u001b[39m, \u001b[32m2\u001b[39m, \u001b[32m3\u001b[39m, \u001b[32m4\u001b[39m, \u001b[32m6\u001b[39m, \u001b[32m6\u001b[39m, \u001b[32m7\u001b[39m, \u001b[32m9\u001b[39m, \u001b[32m14\u001b[39m)"
      ]
     },
     "execution_count": 59,
     "metadata": {},
     "output_type": "execute_result"
    }
   ],
   "source": [
    "def insert[T](elem: T, xs: List[T], order: (T,T) => Boolean): List[T] = xs match {\n",
    "    case Nil => elem :: Nil\n",
    "    case y :: ys if order(y, elem) => y :: insert(elem, ys, order)\n",
    "    case y :: ys => elem :: xs \n",
    "}\n",
    "\n",
    "def isort[T](xs: List[T], order: (T,T) => Boolean): List[T] = xs match {\n",
    "    case Nil => Nil\n",
    "    case y :: ys => insert(y, isort(ys, order), order)\n",
    "}\n",
    "\n",
    "val l1 = List(4,2,6,7,3,6,9,14,0)\n",
    "isort(l1, (x:Int, y:Int) => x < y)"
   ]
  },
  {
   "cell_type": "markdown",
   "metadata": {},
   "source": [
    "### Merge sort\n",
    "\n",
    "Algo:\n",
    "\n",
    "* if list length <= 1 - return that list as sorted\n",
    "* otherwise:\n",
    " - split list in half\n",
    " - sort first, sort second\n",
    " - merge both preserving order"
   ]
  },
  {
   "cell_type": "code",
   "execution_count": 62,
   "metadata": {},
   "outputs": [
    {
     "data": {
      "text/plain": [
       "defined \u001b[32mfunction\u001b[39m \u001b[36mmerge\u001b[39m\n",
       "defined \u001b[32mfunction\u001b[39m \u001b[36mmsort\u001b[39m"
      ]
     },
     "execution_count": 62,
     "metadata": {},
     "output_type": "execute_result"
    }
   ],
   "source": [
    "def merge[T](xs: List[T], ys: List[T], order: (T, T) => Boolean): List[T] = xs match {\n",
    "    case Nil => ys\n",
    "    case z :: zs => insert(z, merge(zs, ys, order), order)\n",
    "}\n",
    "def msort[T](xs: List[T], order: (T, T) => Boolean): List[T] = xs match {\n",
    "    case Nil => xs\n",
    "    case x :: Nil => xs\n",
    "    case _ => \n",
    "        val middle = xs.size / 2\n",
    "        val ys = xs take middle\n",
    "        val zs = xs drop middle\n",
    "        merge(msort(ys, order), msort(zs, order), order)\n",
    "}"
   ]
  },
  {
   "cell_type": "code",
   "execution_count": 63,
   "metadata": {},
   "outputs": [
    {
     "data": {
      "text/plain": [
       "\u001b[36ml1\u001b[39m: \u001b[32mList\u001b[39m[\u001b[32mInt\u001b[39m] = \u001b[33mList\u001b[39m(\u001b[32m4\u001b[39m, \u001b[32m2\u001b[39m, \u001b[32m6\u001b[39m, \u001b[32m7\u001b[39m, \u001b[32m3\u001b[39m, \u001b[32m6\u001b[39m, \u001b[32m9\u001b[39m, \u001b[32m14\u001b[39m, \u001b[32m0\u001b[39m)\n",
       "\u001b[36mres62_1\u001b[39m: \u001b[32mList\u001b[39m[\u001b[32mInt\u001b[39m] = \u001b[33mList\u001b[39m(\u001b[32m0\u001b[39m, \u001b[32m2\u001b[39m, \u001b[32m3\u001b[39m, \u001b[32m4\u001b[39m, \u001b[32m6\u001b[39m, \u001b[32m6\u001b[39m, \u001b[32m7\u001b[39m, \u001b[32m9\u001b[39m, \u001b[32m14\u001b[39m)"
      ]
     },
     "execution_count": 63,
     "metadata": {},
     "output_type": "execute_result"
    }
   ],
   "source": [
    "val l1 = List(4,2,6,7,3,6,9,14,0)\n",
    "msort(l1, (x:Int, y:Int) => x < y)"
   ]
  },
  {
   "cell_type": "code",
   "execution_count": 68,
   "metadata": {},
   "outputs": [
    {
     "data": {
      "text/plain": [
       "defined \u001b[32mfunction\u001b[39m \u001b[36mpack\u001b[39m"
      ]
     },
     "execution_count": 68,
     "metadata": {},
     "output_type": "execute_result"
    }
   ],
   "source": [
    "def pack[T](xs: List[T]): List[List[T]] = xs match {\n",
    "    case Nil => Nil\n",
    "    case y :: ys => (xs takeWhile (_ == y)) :: pack(xs dropWhile(_ == y))\n",
    "}"
   ]
  },
  {
   "cell_type": "code",
   "execution_count": 69,
   "metadata": {},
   "outputs": [
    {
     "data": {
      "text/plain": [
       "\u001b[36ml1\u001b[39m: \u001b[32mList\u001b[39m[\u001b[32mString\u001b[39m] = \u001b[33mList\u001b[39m(\u001b[32m\"a\"\u001b[39m, \u001b[32m\"a\"\u001b[39m, \u001b[32m\"a\"\u001b[39m, \u001b[32m\"b\"\u001b[39m, \u001b[32m\"b\"\u001b[39m, \u001b[32m\"a\"\u001b[39m, \u001b[32m\"a\"\u001b[39m, \u001b[32m\"b\"\u001b[39m, \u001b[32m\"a\"\u001b[39m, \u001b[32m\"a\"\u001b[39m, \u001b[32m\"a\"\u001b[39m)\n",
       "\u001b[36mres68_1\u001b[39m: \u001b[32mList\u001b[39m[\u001b[32mList\u001b[39m[\u001b[32mString\u001b[39m]] = \u001b[33mList\u001b[39m(\n",
       "  \u001b[33mList\u001b[39m(\u001b[32m\"a\"\u001b[39m, \u001b[32m\"a\"\u001b[39m, \u001b[32m\"a\"\u001b[39m),\n",
       "  \u001b[33mList\u001b[39m(\u001b[32m\"b\"\u001b[39m, \u001b[32m\"b\"\u001b[39m),\n",
       "  \u001b[33mList\u001b[39m(\u001b[32m\"a\"\u001b[39m, \u001b[32m\"a\"\u001b[39m),\n",
       "  \u001b[33mList\u001b[39m(\u001b[32m\"b\"\u001b[39m),\n",
       "  \u001b[33mList\u001b[39m(\u001b[32m\"a\"\u001b[39m, \u001b[32m\"a\"\u001b[39m, \u001b[32m\"a\"\u001b[39m)\n",
       ")"
      ]
     },
     "execution_count": 69,
     "metadata": {},
     "output_type": "execute_result"
    }
   ],
   "source": [
    "val l1 = List(\"a\",\"a\",\"a\",\"b\",\"b\",\"a\",\"a\",\"b\",\"a\",\"a\",\"a\")\n",
    "pack(l1)"
   ]
  },
  {
   "cell_type": "code",
   "execution_count": 72,
   "metadata": {},
   "outputs": [
    {
     "data": {
      "text/plain": [
       "defined \u001b[32mfunction\u001b[39m \u001b[36mencode\u001b[39m"
      ]
     },
     "execution_count": 72,
     "metadata": {},
     "output_type": "execute_result"
    }
   ],
   "source": [
    "def encode[T](xs: List[T]): List[(T, Int)] = {\n",
    "    pack(xs).map { pack =>\n",
    "        (pack.head, pack.size)\n",
    "    }\n",
    "}"
   ]
  },
  {
   "cell_type": "code",
   "execution_count": 78,
   "metadata": {},
   "outputs": [
    {
     "data": {
      "text/plain": [
       "\u001b[36mres77\u001b[39m: \u001b[32mList\u001b[39m[(\u001b[32mString\u001b[39m, \u001b[32mInt\u001b[39m)] = \u001b[33mList\u001b[39m((\u001b[32m\"a\"\u001b[39m, \u001b[32m3\u001b[39m), (\u001b[32m\"b\"\u001b[39m, \u001b[32m2\u001b[39m), (\u001b[32m\"a\"\u001b[39m, \u001b[32m2\u001b[39m), (\u001b[32m\"b\"\u001b[39m, \u001b[32m1\u001b[39m), (\u001b[32m\"a\"\u001b[39m, \u001b[32m3\u001b[39m))"
      ]
     },
     "execution_count": 78,
     "metadata": {},
     "output_type": "execute_result"
    }
   ],
   "source": [
    "encode(l1)"
   ]
  },
  {
   "cell_type": "markdown",
   "metadata": {},
   "source": [
    "### Reductions"
   ]
  },
  {
   "cell_type": "code",
   "execution_count": 74,
   "metadata": {},
   "outputs": [
    {
     "data": {
      "text/plain": [
       "\u001b[36mres73\u001b[39m: \u001b[32mInt\u001b[39m = \u001b[32m6\u001b[39m"
      ]
     },
     "execution_count": 74,
     "metadata": {},
     "output_type": "execute_result"
    }
   ],
   "source": [
    "1::2::3::Nil reduceLeft (_ + _)"
   ]
  },
  {
   "cell_type": "code",
   "execution_count": 81,
   "metadata": {},
   "outputs": [
    {
     "data": {
      "text/plain": [
       "defined \u001b[32mfunction\u001b[39m \u001b[36misPrime\u001b[39m"
      ]
     },
     "execution_count": 81,
     "metadata": {},
     "output_type": "execute_result"
    }
   ],
   "source": [
    "def isPrime(n: Int): Boolean = (2 to n - 1).forall(div => n % div > 0)"
   ]
  },
  {
   "cell_type": "code",
   "execution_count": 84,
   "metadata": {},
   "outputs": [
    {
     "data": {
      "text/plain": [
       "\u001b[36mres83\u001b[39m: \u001b[32mBoolean\u001b[39m = \u001b[32mtrue\u001b[39m"
      ]
     },
     "execution_count": 84,
     "metadata": {},
     "output_type": "execute_result"
    }
   ],
   "source": [
    "isPrime(13)"
   ]
  },
  {
   "cell_type": "code",
   "execution_count": null,
   "metadata": {
    "collapsed": true
   },
   "outputs": [],
   "source": []
  }
 ],
 "metadata": {
  "kernelspec": {
   "display_name": "Scala",
   "language": "scala",
   "name": "scala"
  },
  "language_info": {
   "codemirror_mode": "text/x-scala",
   "file_extension": ".scala",
   "mimetype": "text/x-scala",
   "name": "scala211",
   "nbconvert_exporter": "script",
   "pygments_lexer": "scala",
   "version": "2.11.11"
  }
 },
 "nbformat": 4,
 "nbformat_minor": 2
}
